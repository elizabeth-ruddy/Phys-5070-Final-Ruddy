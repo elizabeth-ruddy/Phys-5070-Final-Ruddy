{
 "cells": [
  {
   "cell_type": "code",
   "execution_count": 142,
   "id": "61d9a97a",
   "metadata": {},
   "outputs": [],
   "source": [
    "## Common import cell!\n",
    "\n",
    "%matplotlib inline\n",
    "\n",
    "import numpy as np\n",
    "import pandas as pd\n",
    "import matplotlib.pyplot as plt\n",
    "import sklearn.cluster\n",
    "import sklearn.svm\n",
    "import sqlite3\n",
    "\n",
    "font = {'size'   : 18}\n",
    "\n",
    "plt.matplotlib.rc('font', **font)"
   ]
  },
  {
   "cell_type": "markdown",
   "id": "7c8a40a4",
   "metadata": {},
   "source": [
    "# Machine Learning: Classification"
   ]
  },
  {
   "cell_type": "markdown",
   "id": "6ed8dbce",
   "metadata": {},
   "source": [
    "# 1. Data preparation"
   ]
  },
  {
   "cell_type": "markdown",
   "id": "1c9dcf9d",
   "metadata": {},
   "source": [
    "From preliminary data analysis, I have identified several factors which may be correlated with wildfire risk, and therefore, may be useful in characterizing the cause of a given wildfire. These features are: discovery day, fire year, fire size, latitude, and longitude. We start with a simple binary of classifying whether a given fire was caused by lightning or not (statistical cause code 1.0). "
   ]
  },
  {
   "cell_type": "code",
   "execution_count": 143,
   "id": "cb43908e",
   "metadata": {
    "scrolled": false
   },
   "outputs": [
    {
     "data": {
      "text/html": [
       "<div>\n",
       "<style scoped>\n",
       "    .dataframe tbody tr th:only-of-type {\n",
       "        vertical-align: middle;\n",
       "    }\n",
       "\n",
       "    .dataframe tbody tr th {\n",
       "        vertical-align: top;\n",
       "    }\n",
       "\n",
       "    .dataframe thead th {\n",
       "        text-align: right;\n",
       "    }\n",
       "</style>\n",
       "<table border=\"1\" class=\"dataframe\">\n",
       "  <thead>\n",
       "    <tr style=\"text-align: right;\">\n",
       "      <th></th>\n",
       "      <th>STAT_CAUSE_CODE</th>\n",
       "      <th>STAT_CAUSE_DESCR</th>\n",
       "    </tr>\n",
       "  </thead>\n",
       "  <tbody>\n",
       "    <tr>\n",
       "      <th>1</th>\n",
       "      <td>1.0</td>\n",
       "      <td>Lightning</td>\n",
       "    </tr>\n",
       "    <tr>\n",
       "      <th>2</th>\n",
       "      <td>5.0</td>\n",
       "      <td>Debris Burning</td>\n",
       "    </tr>\n",
       "    <tr>\n",
       "      <th>3</th>\n",
       "      <td>1.0</td>\n",
       "      <td>Lightning</td>\n",
       "    </tr>\n",
       "    <tr>\n",
       "      <th>4</th>\n",
       "      <td>1.0</td>\n",
       "      <td>Lightning</td>\n",
       "    </tr>\n",
       "    <tr>\n",
       "      <th>5</th>\n",
       "      <td>1.0</td>\n",
       "      <td>Lightning</td>\n",
       "    </tr>\n",
       "    <tr>\n",
       "      <th>6</th>\n",
       "      <td>1.0</td>\n",
       "      <td>Lightning</td>\n",
       "    </tr>\n",
       "    <tr>\n",
       "      <th>7</th>\n",
       "      <td>5.0</td>\n",
       "      <td>Debris Burning</td>\n",
       "    </tr>\n",
       "    <tr>\n",
       "      <th>8</th>\n",
       "      <td>5.0</td>\n",
       "      <td>Debris Burning</td>\n",
       "    </tr>\n",
       "    <tr>\n",
       "      <th>9</th>\n",
       "      <td>1.0</td>\n",
       "      <td>Lightning</td>\n",
       "    </tr>\n",
       "    <tr>\n",
       "      <th>10</th>\n",
       "      <td>1.0</td>\n",
       "      <td>Lightning</td>\n",
       "    </tr>\n",
       "    <tr>\n",
       "      <th>11</th>\n",
       "      <td>1.0</td>\n",
       "      <td>Lightning</td>\n",
       "    </tr>\n",
       "    <tr>\n",
       "      <th>12</th>\n",
       "      <td>9.0</td>\n",
       "      <td>Miscellaneous</td>\n",
       "    </tr>\n",
       "    <tr>\n",
       "      <th>13</th>\n",
       "      <td>4.0</td>\n",
       "      <td>Campfire</td>\n",
       "    </tr>\n",
       "    <tr>\n",
       "      <th>14</th>\n",
       "      <td>1.0</td>\n",
       "      <td>Lightning</td>\n",
       "    </tr>\n",
       "    <tr>\n",
       "      <th>15</th>\n",
       "      <td>1.0</td>\n",
       "      <td>Lightning</td>\n",
       "    </tr>\n",
       "    <tr>\n",
       "      <th>16</th>\n",
       "      <td>2.0</td>\n",
       "      <td>Equipment Use</td>\n",
       "    </tr>\n",
       "    <tr>\n",
       "      <th>17</th>\n",
       "      <td>2.0</td>\n",
       "      <td>Equipment Use</td>\n",
       "    </tr>\n",
       "    <tr>\n",
       "      <th>18</th>\n",
       "      <td>5.0</td>\n",
       "      <td>Debris Burning</td>\n",
       "    </tr>\n",
       "    <tr>\n",
       "      <th>19</th>\n",
       "      <td>1.0</td>\n",
       "      <td>Lightning</td>\n",
       "    </tr>\n",
       "  </tbody>\n",
       "</table>\n",
       "</div>"
      ],
      "text/plain": [
       "    STAT_CAUSE_CODE STAT_CAUSE_DESCR\n",
       "1               1.0        Lightning\n",
       "2               5.0   Debris Burning\n",
       "3               1.0        Lightning\n",
       "4               1.0        Lightning\n",
       "5               1.0        Lightning\n",
       "6               1.0        Lightning\n",
       "7               5.0   Debris Burning\n",
       "8               5.0   Debris Burning\n",
       "9               1.0        Lightning\n",
       "10              1.0        Lightning\n",
       "11              1.0        Lightning\n",
       "12              9.0    Miscellaneous\n",
       "13              4.0         Campfire\n",
       "14              1.0        Lightning\n",
       "15              1.0        Lightning\n",
       "16              2.0    Equipment Use\n",
       "17              2.0    Equipment Use\n",
       "18              5.0   Debris Burning\n",
       "19              1.0        Lightning"
      ]
     },
     "execution_count": 143,
     "metadata": {},
     "output_type": "execute_result"
    }
   ],
   "source": [
    "conn = sqlite3.connect('FPA_FOD_20170508.sqlite')\n",
    "cause_df = pd.read_sql('SELECT STAT_CAUSE_CODE, STAT_CAUSE_DESCR from fires',conn)\n",
    "cause_df[1:20]"
   ]
  },
  {
   "cell_type": "code",
   "execution_count": 144,
   "id": "b455e2e8",
   "metadata": {},
   "outputs": [],
   "source": [
    "rel_df = pd.read_sql('SELECT FIRE_YEAR, DISCOVERY_DOY, DISCOVERY_TIME, STAT_CAUSE_CODE, STAT_CAUSE_DESCR, FIRE_SIZE, FIRE_SIZE_CLASS, LATITUDE, LONGITUDE FROM fires',conn)\n",
    "\n"
   ]
  },
  {
   "cell_type": "code",
   "execution_count": 145,
   "id": "b314f529",
   "metadata": {},
   "outputs": [
    {
     "data": {
      "text/html": [
       "<div>\n",
       "<style scoped>\n",
       "    .dataframe tbody tr th:only-of-type {\n",
       "        vertical-align: middle;\n",
       "    }\n",
       "\n",
       "    .dataframe tbody tr th {\n",
       "        vertical-align: top;\n",
       "    }\n",
       "\n",
       "    .dataframe thead th {\n",
       "        text-align: right;\n",
       "    }\n",
       "</style>\n",
       "<table border=\"1\" class=\"dataframe\">\n",
       "  <thead>\n",
       "    <tr style=\"text-align: right;\">\n",
       "      <th></th>\n",
       "      <th>FIRE_YEAR</th>\n",
       "      <th>DISCOVERY_DOY</th>\n",
       "      <th>DISCOVERY_TIME</th>\n",
       "      <th>STAT_CAUSE_CODE</th>\n",
       "      <th>STAT_CAUSE_DESCR</th>\n",
       "      <th>FIRE_SIZE</th>\n",
       "      <th>FIRE_SIZE_CLASS</th>\n",
       "      <th>LATITUDE</th>\n",
       "      <th>LONGITUDE</th>\n",
       "      <th>cause_lightning</th>\n",
       "    </tr>\n",
       "  </thead>\n",
       "  <tbody>\n",
       "    <tr>\n",
       "      <th>0</th>\n",
       "      <td>2005</td>\n",
       "      <td>33</td>\n",
       "      <td>1300</td>\n",
       "      <td>9.0</td>\n",
       "      <td>Miscellaneous</td>\n",
       "      <td>0.10</td>\n",
       "      <td>A</td>\n",
       "      <td>40.036944</td>\n",
       "      <td>-121.005833</td>\n",
       "      <td>False</td>\n",
       "    </tr>\n",
       "    <tr>\n",
       "      <th>1</th>\n",
       "      <td>2004</td>\n",
       "      <td>133</td>\n",
       "      <td>0845</td>\n",
       "      <td>1.0</td>\n",
       "      <td>Lightning</td>\n",
       "      <td>0.25</td>\n",
       "      <td>A</td>\n",
       "      <td>38.933056</td>\n",
       "      <td>-120.404444</td>\n",
       "      <td>True</td>\n",
       "    </tr>\n",
       "    <tr>\n",
       "      <th>2</th>\n",
       "      <td>2004</td>\n",
       "      <td>152</td>\n",
       "      <td>1921</td>\n",
       "      <td>5.0</td>\n",
       "      <td>Debris Burning</td>\n",
       "      <td>0.10</td>\n",
       "      <td>A</td>\n",
       "      <td>38.984167</td>\n",
       "      <td>-120.735556</td>\n",
       "      <td>False</td>\n",
       "    </tr>\n",
       "    <tr>\n",
       "      <th>3</th>\n",
       "      <td>2004</td>\n",
       "      <td>180</td>\n",
       "      <td>1600</td>\n",
       "      <td>1.0</td>\n",
       "      <td>Lightning</td>\n",
       "      <td>0.10</td>\n",
       "      <td>A</td>\n",
       "      <td>38.559167</td>\n",
       "      <td>-119.913333</td>\n",
       "      <td>True</td>\n",
       "    </tr>\n",
       "    <tr>\n",
       "      <th>4</th>\n",
       "      <td>2004</td>\n",
       "      <td>180</td>\n",
       "      <td>1600</td>\n",
       "      <td>1.0</td>\n",
       "      <td>Lightning</td>\n",
       "      <td>0.10</td>\n",
       "      <td>A</td>\n",
       "      <td>38.559167</td>\n",
       "      <td>-119.933056</td>\n",
       "      <td>True</td>\n",
       "    </tr>\n",
       "    <tr>\n",
       "      <th>...</th>\n",
       "      <td>...</td>\n",
       "      <td>...</td>\n",
       "      <td>...</td>\n",
       "      <td>...</td>\n",
       "      <td>...</td>\n",
       "      <td>...</td>\n",
       "      <td>...</td>\n",
       "      <td>...</td>\n",
       "      <td>...</td>\n",
       "      <td>...</td>\n",
       "    </tr>\n",
       "    <tr>\n",
       "      <th>1880460</th>\n",
       "      <td>2015</td>\n",
       "      <td>269</td>\n",
       "      <td>1726</td>\n",
       "      <td>13.0</td>\n",
       "      <td>Missing/Undefined</td>\n",
       "      <td>0.01</td>\n",
       "      <td>A</td>\n",
       "      <td>40.481637</td>\n",
       "      <td>-122.389375</td>\n",
       "      <td>False</td>\n",
       "    </tr>\n",
       "    <tr>\n",
       "      <th>1880461</th>\n",
       "      <td>2015</td>\n",
       "      <td>278</td>\n",
       "      <td>0126</td>\n",
       "      <td>9.0</td>\n",
       "      <td>Miscellaneous</td>\n",
       "      <td>0.20</td>\n",
       "      <td>A</td>\n",
       "      <td>37.617619</td>\n",
       "      <td>-120.938570</td>\n",
       "      <td>False</td>\n",
       "    </tr>\n",
       "    <tr>\n",
       "      <th>1880462</th>\n",
       "      <td>2015</td>\n",
       "      <td>122</td>\n",
       "      <td>2052</td>\n",
       "      <td>13.0</td>\n",
       "      <td>Missing/Undefined</td>\n",
       "      <td>0.10</td>\n",
       "      <td>A</td>\n",
       "      <td>37.617619</td>\n",
       "      <td>-120.938570</td>\n",
       "      <td>False</td>\n",
       "    </tr>\n",
       "    <tr>\n",
       "      <th>1880463</th>\n",
       "      <td>2015</td>\n",
       "      <td>287</td>\n",
       "      <td>2309</td>\n",
       "      <td>13.0</td>\n",
       "      <td>Missing/Undefined</td>\n",
       "      <td>2.00</td>\n",
       "      <td>B</td>\n",
       "      <td>37.672235</td>\n",
       "      <td>-120.898356</td>\n",
       "      <td>False</td>\n",
       "    </tr>\n",
       "    <tr>\n",
       "      <th>1880464</th>\n",
       "      <td>2015</td>\n",
       "      <td>73</td>\n",
       "      <td>2128</td>\n",
       "      <td>9.0</td>\n",
       "      <td>Miscellaneous</td>\n",
       "      <td>0.10</td>\n",
       "      <td>A</td>\n",
       "      <td>34.263217</td>\n",
       "      <td>-116.830950</td>\n",
       "      <td>False</td>\n",
       "    </tr>\n",
       "  </tbody>\n",
       "</table>\n",
       "<p>1880465 rows × 10 columns</p>\n",
       "</div>"
      ],
      "text/plain": [
       "         FIRE_YEAR  DISCOVERY_DOY DISCOVERY_TIME  STAT_CAUSE_CODE  \\\n",
       "0             2005             33           1300              9.0   \n",
       "1             2004            133           0845              1.0   \n",
       "2             2004            152           1921              5.0   \n",
       "3             2004            180           1600              1.0   \n",
       "4             2004            180           1600              1.0   \n",
       "...            ...            ...            ...              ...   \n",
       "1880460       2015            269           1726             13.0   \n",
       "1880461       2015            278           0126              9.0   \n",
       "1880462       2015            122           2052             13.0   \n",
       "1880463       2015            287           2309             13.0   \n",
       "1880464       2015             73           2128              9.0   \n",
       "\n",
       "          STAT_CAUSE_DESCR  FIRE_SIZE FIRE_SIZE_CLASS   LATITUDE   LONGITUDE  \\\n",
       "0            Miscellaneous       0.10               A  40.036944 -121.005833   \n",
       "1                Lightning       0.25               A  38.933056 -120.404444   \n",
       "2           Debris Burning       0.10               A  38.984167 -120.735556   \n",
       "3                Lightning       0.10               A  38.559167 -119.913333   \n",
       "4                Lightning       0.10               A  38.559167 -119.933056   \n",
       "...                    ...        ...             ...        ...         ...   \n",
       "1880460  Missing/Undefined       0.01               A  40.481637 -122.389375   \n",
       "1880461      Miscellaneous       0.20               A  37.617619 -120.938570   \n",
       "1880462  Missing/Undefined       0.10               A  37.617619 -120.938570   \n",
       "1880463  Missing/Undefined       2.00               B  37.672235 -120.898356   \n",
       "1880464      Miscellaneous       0.10               A  34.263217 -116.830950   \n",
       "\n",
       "         cause_lightning  \n",
       "0                  False  \n",
       "1                   True  \n",
       "2                  False  \n",
       "3                   True  \n",
       "4                   True  \n",
       "...                  ...  \n",
       "1880460            False  \n",
       "1880461            False  \n",
       "1880462            False  \n",
       "1880463            False  \n",
       "1880464            False  \n",
       "\n",
       "[1880465 rows x 10 columns]"
      ]
     },
     "execution_count": 145,
     "metadata": {},
     "output_type": "execute_result"
    }
   ],
   "source": [
    "rel_df['cause_lightning'] = rel_df.STAT_CAUSE_CODE.isin([1.0])\n",
    "rel_df"
   ]
  },
  {
   "cell_type": "markdown",
   "id": "04f2dbfd",
   "metadata": {},
   "source": [
    "Before we can apply our machine learning algorithms on this dataset, we need to rescale each of the numerical feature columns so that the minimum value in each column is 0, and the maximum value is 1. We should also remove the rows where the cause is classified as Missing/Undefined or as Miscellaneous as these categories are not well defined and may throw off the model."
   ]
  },
  {
   "cell_type": "code",
   "execution_count": 146,
   "id": "9bc6b50c",
   "metadata": {},
   "outputs": [],
   "source": [
    "def normalize_col(table_feature):\n",
    "    cmin = table_feature.min()\n",
    "    cmax = table_feature.max()\n",
    "    \n",
    "    table_feature_norm = (table_feature - cmin) / (cmax - cmin)\n",
    "    return table_feature_norm"
   ]
  },
  {
   "cell_type": "code",
   "execution_count": 147,
   "id": "79c5b69b",
   "metadata": {},
   "outputs": [
    {
     "data": {
      "text/html": [
       "<div>\n",
       "<style scoped>\n",
       "    .dataframe tbody tr th:only-of-type {\n",
       "        vertical-align: middle;\n",
       "    }\n",
       "\n",
       "    .dataframe tbody tr th {\n",
       "        vertical-align: top;\n",
       "    }\n",
       "\n",
       "    .dataframe thead th {\n",
       "        text-align: right;\n",
       "    }\n",
       "</style>\n",
       "<table border=\"1\" class=\"dataframe\">\n",
       "  <thead>\n",
       "    <tr style=\"text-align: right;\">\n",
       "      <th></th>\n",
       "      <th>FIRE_YEAR</th>\n",
       "      <th>DISCOVERY_DOY</th>\n",
       "      <th>DISCOVERY_TIME</th>\n",
       "      <th>STAT_CAUSE_CODE</th>\n",
       "      <th>STAT_CAUSE_DESCR</th>\n",
       "      <th>FIRE_SIZE</th>\n",
       "      <th>FIRE_SIZE_CLASS</th>\n",
       "      <th>LATITUDE</th>\n",
       "      <th>LONGITUDE</th>\n",
       "      <th>cause_lightning</th>\n",
       "    </tr>\n",
       "  </thead>\n",
       "  <tbody>\n",
       "    <tr>\n",
       "      <th>1</th>\n",
       "      <td>0.521739</td>\n",
       "      <td>0.361644</td>\n",
       "      <td>0845</td>\n",
       "      <td>1.0</td>\n",
       "      <td>Lightning</td>\n",
       "      <td>4.117507e-07</td>\n",
       "      <td>A</td>\n",
       "      <td>0.400646</td>\n",
       "      <td>0.514314</td>\n",
       "      <td>True</td>\n",
       "    </tr>\n",
       "    <tr>\n",
       "      <th>2</th>\n",
       "      <td>0.521739</td>\n",
       "      <td>0.413699</td>\n",
       "      <td>1921</td>\n",
       "      <td>5.0</td>\n",
       "      <td>Debris Burning</td>\n",
       "      <td>1.646113e-07</td>\n",
       "      <td>A</td>\n",
       "      <td>0.401622</td>\n",
       "      <td>0.511398</td>\n",
       "      <td>False</td>\n",
       "    </tr>\n",
       "    <tr>\n",
       "      <th>3</th>\n",
       "      <td>0.521739</td>\n",
       "      <td>0.490411</td>\n",
       "      <td>1600</td>\n",
       "      <td>1.0</td>\n",
       "      <td>Lightning</td>\n",
       "      <td>1.646113e-07</td>\n",
       "      <td>A</td>\n",
       "      <td>0.393509</td>\n",
       "      <td>0.518640</td>\n",
       "      <td>True</td>\n",
       "    </tr>\n",
       "    <tr>\n",
       "      <th>4</th>\n",
       "      <td>0.521739</td>\n",
       "      <td>0.490411</td>\n",
       "      <td>1600</td>\n",
       "      <td>1.0</td>\n",
       "      <td>Lightning</td>\n",
       "      <td>1.646113e-07</td>\n",
       "      <td>A</td>\n",
       "      <td>0.393509</td>\n",
       "      <td>0.518466</td>\n",
       "      <td>True</td>\n",
       "    </tr>\n",
       "    <tr>\n",
       "      <th>5</th>\n",
       "      <td>0.521739</td>\n",
       "      <td>0.495890</td>\n",
       "      <td>1800</td>\n",
       "      <td>1.0</td>\n",
       "      <td>Lightning</td>\n",
       "      <td>1.646113e-07</td>\n",
       "      <td>A</td>\n",
       "      <td>0.394962</td>\n",
       "      <td>0.516964</td>\n",
       "      <td>True</td>\n",
       "    </tr>\n",
       "    <tr>\n",
       "      <th>...</th>\n",
       "      <td>...</td>\n",
       "      <td>...</td>\n",
       "      <td>...</td>\n",
       "      <td>...</td>\n",
       "      <td>...</td>\n",
       "      <td>...</td>\n",
       "      <td>...</td>\n",
       "      <td>...</td>\n",
       "      <td>...</td>\n",
       "      <td>...</td>\n",
       "    </tr>\n",
       "    <tr>\n",
       "      <th>1880451</th>\n",
       "      <td>1.000000</td>\n",
       "      <td>0.427397</td>\n",
       "      <td>1208</td>\n",
       "      <td>2.0</td>\n",
       "      <td>Equipment Use</td>\n",
       "      <td>1.647447e-06</td>\n",
       "      <td>B</td>\n",
       "      <td>0.395132</td>\n",
       "      <td>0.510270</td>\n",
       "      <td>False</td>\n",
       "    </tr>\n",
       "    <tr>\n",
       "      <th>1880452</th>\n",
       "      <td>1.000000</td>\n",
       "      <td>0.282192</td>\n",
       "      <td>0827</td>\n",
       "      <td>5.0</td>\n",
       "      <td>Debris Burning</td>\n",
       "      <td>1.975632e-07</td>\n",
       "      <td>A</td>\n",
       "      <td>0.309592</td>\n",
       "      <td>0.529384</td>\n",
       "      <td>False</td>\n",
       "    </tr>\n",
       "    <tr>\n",
       "      <th>1880453</th>\n",
       "      <td>1.000000</td>\n",
       "      <td>0.512329</td>\n",
       "      <td>0723</td>\n",
       "      <td>8.0</td>\n",
       "      <td>Children</td>\n",
       "      <td>1.975632e-07</td>\n",
       "      <td>A</td>\n",
       "      <td>0.311789</td>\n",
       "      <td>0.530020</td>\n",
       "      <td>False</td>\n",
       "    </tr>\n",
       "    <tr>\n",
       "      <th>1880457</th>\n",
       "      <td>1.000000</td>\n",
       "      <td>0.745205</td>\n",
       "      <td>2357</td>\n",
       "      <td>7.0</td>\n",
       "      <td>Arson</td>\n",
       "      <td>1.647447e-06</td>\n",
       "      <td>B</td>\n",
       "      <td>0.432249</td>\n",
       "      <td>0.490842</td>\n",
       "      <td>False</td>\n",
       "    </tr>\n",
       "    <tr>\n",
       "      <th>1880458</th>\n",
       "      <td>1.000000</td>\n",
       "      <td>0.580822</td>\n",
       "      <td>1331</td>\n",
       "      <td>1.0</td>\n",
       "      <td>Lightning</td>\n",
       "      <td>6.590235e-06</td>\n",
       "      <td>B</td>\n",
       "      <td>0.425687</td>\n",
       "      <td>0.486663</td>\n",
       "      <td>True</td>\n",
       "    </tr>\n",
       "  </tbody>\n",
       "</table>\n",
       "<p>1389937 rows × 10 columns</p>\n",
       "</div>"
      ],
      "text/plain": [
       "         FIRE_YEAR  DISCOVERY_DOY DISCOVERY_TIME  STAT_CAUSE_CODE  \\\n",
       "1         0.521739       0.361644           0845              1.0   \n",
       "2         0.521739       0.413699           1921              5.0   \n",
       "3         0.521739       0.490411           1600              1.0   \n",
       "4         0.521739       0.490411           1600              1.0   \n",
       "5         0.521739       0.495890           1800              1.0   \n",
       "...            ...            ...            ...              ...   \n",
       "1880451   1.000000       0.427397           1208              2.0   \n",
       "1880452   1.000000       0.282192           0827              5.0   \n",
       "1880453   1.000000       0.512329           0723              8.0   \n",
       "1880457   1.000000       0.745205           2357              7.0   \n",
       "1880458   1.000000       0.580822           1331              1.0   \n",
       "\n",
       "        STAT_CAUSE_DESCR     FIRE_SIZE FIRE_SIZE_CLASS  LATITUDE  LONGITUDE  \\\n",
       "1              Lightning  4.117507e-07               A  0.400646   0.514314   \n",
       "2         Debris Burning  1.646113e-07               A  0.401622   0.511398   \n",
       "3              Lightning  1.646113e-07               A  0.393509   0.518640   \n",
       "4              Lightning  1.646113e-07               A  0.393509   0.518466   \n",
       "5              Lightning  1.646113e-07               A  0.394962   0.516964   \n",
       "...                  ...           ...             ...       ...        ...   \n",
       "1880451    Equipment Use  1.647447e-06               B  0.395132   0.510270   \n",
       "1880452   Debris Burning  1.975632e-07               A  0.309592   0.529384   \n",
       "1880453         Children  1.975632e-07               A  0.311789   0.530020   \n",
       "1880457            Arson  1.647447e-06               B  0.432249   0.490842   \n",
       "1880458        Lightning  6.590235e-06               B  0.425687   0.486663   \n",
       "\n",
       "         cause_lightning  \n",
       "1                   True  \n",
       "2                  False  \n",
       "3                   True  \n",
       "4                   True  \n",
       "5                   True  \n",
       "...                  ...  \n",
       "1880451            False  \n",
       "1880452            False  \n",
       "1880453            False  \n",
       "1880457            False  \n",
       "1880458             True  \n",
       "\n",
       "[1389937 rows x 10 columns]"
      ]
     },
     "execution_count": 147,
     "metadata": {},
     "output_type": "execute_result"
    }
   ],
   "source": [
    "features = ['FIRE_YEAR', 'DISCOVERY_DOY', 'FIRE_SIZE', 'LATITUDE','LONGITUDE']\n",
    "rel_df.drop(rel_df.index[rel_df['STAT_CAUSE_DESCR'] == 'Missing/Undefined'], inplace=True)\n",
    "rel_df.drop(rel_df.index[rel_df['STAT_CAUSE_DESCR'] == 'Miscellaneous'], inplace=True)\n",
    "\n",
    "for col_name in ['FIRE_YEAR', 'DISCOVERY_DOY', 'FIRE_SIZE', 'LATITUDE','LONGITUDE']:\n",
    "    rel_df[col_name] = normalize_col(rel_df[col_name])\n",
    "    \n",
    "rel_df"
   ]
  },
  {
   "cell_type": "markdown",
   "id": "cec74dff",
   "metadata": {},
   "source": [
    "Next, we split our data into training and testing datasets. This can be done using Sklearn but I will implement it manually first."
   ]
  },
  {
   "cell_type": "code",
   "execution_count": 148,
   "id": "9a79db65",
   "metadata": {},
   "outputs": [],
   "source": [
    "import random\n",
    "\n",
    "def data_split(df, test_ratio):\n",
    "    nInds = df.shape[0]\n",
    "    inds = range(nInds)\n",
    "    testInds = random.sample(inds,round(nInds*test_ratio))\n",
    "    mask=np.full(len(inds),True,dtype=bool)\n",
    "    mask[testInds]=False\n",
    "    rel_test = rel_df.loc[~mask,:]\n",
    "    rel_train = rel_df.loc[mask,:]\n",
    "    return rel_train, rel_test"
   ]
  },
  {
   "cell_type": "code",
   "execution_count": 149,
   "id": "f63179bf",
   "metadata": {},
   "outputs": [],
   "source": [
    "rel_train, rel_test = data_split(rel_df,0.5)"
   ]
  },
  {
   "cell_type": "markdown",
   "id": "bd8599d8",
   "metadata": {},
   "source": [
    "# 2. Unsupervised learning"
   ]
  },
  {
   "cell_type": "markdown",
   "id": "9d7f7df7",
   "metadata": {},
   "source": [
    "To start this project, we follow what we did in the ML Classification tutorial from class. We'll start by using the K-means clustering algorithm to do some unsupervised learning and see what we get on this data."
   ]
  },
  {
   "cell_type": "code",
   "execution_count": 150,
   "id": "39032a1c",
   "metadata": {},
   "outputs": [
    {
     "name": "stdout",
     "output_type": "stream",
     "text": [
      "[1 1 1 ... 1 1 1]\n"
     ]
    }
   ],
   "source": [
    "kmeans = sklearn.cluster.KMeans(n_clusters=2, random_state=0).fit(rel_train[features])\n",
    "\n",
    "print(kmeans.labels_)"
   ]
  },
  {
   "cell_type": "code",
   "execution_count": 151,
   "id": "0245d4fb",
   "metadata": {},
   "outputs": [
    {
     "data": {
      "text/html": [
       "<div>\n",
       "<style scoped>\n",
       "    .dataframe tbody tr th:only-of-type {\n",
       "        vertical-align: middle;\n",
       "    }\n",
       "\n",
       "    .dataframe tbody tr th {\n",
       "        vertical-align: top;\n",
       "    }\n",
       "\n",
       "    .dataframe thead th {\n",
       "        text-align: right;\n",
       "    }\n",
       "</style>\n",
       "<table border=\"1\" class=\"dataframe\">\n",
       "  <thead>\n",
       "    <tr style=\"text-align: right;\">\n",
       "      <th></th>\n",
       "      <th>FIRE_YEAR</th>\n",
       "      <th>DISCOVERY_DOY</th>\n",
       "      <th>DISCOVERY_TIME</th>\n",
       "      <th>STAT_CAUSE_CODE</th>\n",
       "      <th>STAT_CAUSE_DESCR</th>\n",
       "      <th>FIRE_SIZE</th>\n",
       "      <th>FIRE_SIZE_CLASS</th>\n",
       "      <th>LATITUDE</th>\n",
       "      <th>LONGITUDE</th>\n",
       "      <th>cause_lightning</th>\n",
       "    </tr>\n",
       "  </thead>\n",
       "  <tbody>\n",
       "    <tr>\n",
       "      <th>2</th>\n",
       "      <td>0.521739</td>\n",
       "      <td>0.413699</td>\n",
       "      <td>1921</td>\n",
       "      <td>5.0</td>\n",
       "      <td>Debris Burning</td>\n",
       "      <td>1.646113e-07</td>\n",
       "      <td>A</td>\n",
       "      <td>0.401622</td>\n",
       "      <td>0.511398</td>\n",
       "      <td>False</td>\n",
       "    </tr>\n",
       "    <tr>\n",
       "      <th>5</th>\n",
       "      <td>0.521739</td>\n",
       "      <td>0.495890</td>\n",
       "      <td>1800</td>\n",
       "      <td>1.0</td>\n",
       "      <td>Lightning</td>\n",
       "      <td>1.646113e-07</td>\n",
       "      <td>A</td>\n",
       "      <td>0.394962</td>\n",
       "      <td>0.516964</td>\n",
       "      <td>True</td>\n",
       "    </tr>\n",
       "    <tr>\n",
       "      <th>9</th>\n",
       "      <td>0.521739</td>\n",
       "      <td>0.498630</td>\n",
       "      <td>1800</td>\n",
       "      <td>1.0</td>\n",
       "      <td>Lightning</td>\n",
       "      <td>1.646113e-07</td>\n",
       "      <td>A</td>\n",
       "      <td>0.393302</td>\n",
       "      <td>0.516563</td>\n",
       "      <td>True</td>\n",
       "    </tr>\n",
       "    <tr>\n",
       "      <th>13</th>\n",
       "      <td>0.521739</td>\n",
       "      <td>0.742466</td>\n",
       "      <td>1200</td>\n",
       "      <td>4.0</td>\n",
       "      <td>Campfire</td>\n",
       "      <td>9.885426e-06</td>\n",
       "      <td>B</td>\n",
       "      <td>0.391107</td>\n",
       "      <td>0.513385</td>\n",
       "      <td>False</td>\n",
       "    </tr>\n",
       "    <tr>\n",
       "      <th>15</th>\n",
       "      <td>0.521739</td>\n",
       "      <td>0.756164</td>\n",
       "      <td>0930</td>\n",
       "      <td>1.0</td>\n",
       "      <td>Lightning</td>\n",
       "      <td>1.646113e-07</td>\n",
       "      <td>A</td>\n",
       "      <td>0.393605</td>\n",
       "      <td>0.513101</td>\n",
       "      <td>True</td>\n",
       "    </tr>\n",
       "    <tr>\n",
       "      <th>...</th>\n",
       "      <td>...</td>\n",
       "      <td>...</td>\n",
       "      <td>...</td>\n",
       "      <td>...</td>\n",
       "      <td>...</td>\n",
       "      <td>...</td>\n",
       "      <td>...</td>\n",
       "      <td>...</td>\n",
       "      <td>...</td>\n",
       "      <td>...</td>\n",
       "    </tr>\n",
       "    <tr>\n",
       "      <th>1880440</th>\n",
       "      <td>1.000000</td>\n",
       "      <td>0.504110</td>\n",
       "      <td>2311</td>\n",
       "      <td>7.0</td>\n",
       "      <td>Arson</td>\n",
       "      <td>1.810872e-07</td>\n",
       "      <td>A</td>\n",
       "      <td>0.320159</td>\n",
       "      <td>0.528445</td>\n",
       "      <td>False</td>\n",
       "    </tr>\n",
       "    <tr>\n",
       "      <th>1880446</th>\n",
       "      <td>1.000000</td>\n",
       "      <td>0.561644</td>\n",
       "      <td>1943</td>\n",
       "      <td>7.0</td>\n",
       "      <td>Arson</td>\n",
       "      <td>8.236496e-07</td>\n",
       "      <td>B</td>\n",
       "      <td>0.311145</td>\n",
       "      <td>0.547302</td>\n",
       "      <td>False</td>\n",
       "    </tr>\n",
       "    <tr>\n",
       "      <th>1880448</th>\n",
       "      <td>1.000000</td>\n",
       "      <td>0.482192</td>\n",
       "      <td>1752</td>\n",
       "      <td>1.0</td>\n",
       "      <td>Lightning</td>\n",
       "      <td>8.223150e-08</td>\n",
       "      <td>A</td>\n",
       "      <td>0.429470</td>\n",
       "      <td>0.512025</td>\n",
       "      <td>True</td>\n",
       "    </tr>\n",
       "    <tr>\n",
       "      <th>1880451</th>\n",
       "      <td>1.000000</td>\n",
       "      <td>0.427397</td>\n",
       "      <td>1208</td>\n",
       "      <td>2.0</td>\n",
       "      <td>Equipment Use</td>\n",
       "      <td>1.647447e-06</td>\n",
       "      <td>B</td>\n",
       "      <td>0.395132</td>\n",
       "      <td>0.510270</td>\n",
       "      <td>False</td>\n",
       "    </tr>\n",
       "    <tr>\n",
       "      <th>1880453</th>\n",
       "      <td>1.000000</td>\n",
       "      <td>0.512329</td>\n",
       "      <td>0723</td>\n",
       "      <td>8.0</td>\n",
       "      <td>Children</td>\n",
       "      <td>1.975632e-07</td>\n",
       "      <td>A</td>\n",
       "      <td>0.311789</td>\n",
       "      <td>0.530020</td>\n",
       "      <td>False</td>\n",
       "    </tr>\n",
       "  </tbody>\n",
       "</table>\n",
       "<p>339004 rows × 10 columns</p>\n",
       "</div>"
      ],
      "text/plain": [
       "         FIRE_YEAR  DISCOVERY_DOY DISCOVERY_TIME  STAT_CAUSE_CODE  \\\n",
       "2         0.521739       0.413699           1921              5.0   \n",
       "5         0.521739       0.495890           1800              1.0   \n",
       "9         0.521739       0.498630           1800              1.0   \n",
       "13        0.521739       0.742466           1200              4.0   \n",
       "15        0.521739       0.756164           0930              1.0   \n",
       "...            ...            ...            ...              ...   \n",
       "1880440   1.000000       0.504110           2311              7.0   \n",
       "1880446   1.000000       0.561644           1943              7.0   \n",
       "1880448   1.000000       0.482192           1752              1.0   \n",
       "1880451   1.000000       0.427397           1208              2.0   \n",
       "1880453   1.000000       0.512329           0723              8.0   \n",
       "\n",
       "        STAT_CAUSE_DESCR     FIRE_SIZE FIRE_SIZE_CLASS  LATITUDE  LONGITUDE  \\\n",
       "2         Debris Burning  1.646113e-07               A  0.401622   0.511398   \n",
       "5              Lightning  1.646113e-07               A  0.394962   0.516964   \n",
       "9              Lightning  1.646113e-07               A  0.393302   0.516563   \n",
       "13              Campfire  9.885426e-06               B  0.391107   0.513385   \n",
       "15             Lightning  1.646113e-07               A  0.393605   0.513101   \n",
       "...                  ...           ...             ...       ...        ...   \n",
       "1880440            Arson  1.810872e-07               A  0.320159   0.528445   \n",
       "1880446            Arson  8.236496e-07               B  0.311145   0.547302   \n",
       "1880448        Lightning  8.223150e-08               A  0.429470   0.512025   \n",
       "1880451    Equipment Use  1.647447e-06               B  0.395132   0.510270   \n",
       "1880453         Children  1.975632e-07               A  0.311789   0.530020   \n",
       "\n",
       "         cause_lightning  \n",
       "2                  False  \n",
       "5                   True  \n",
       "9                   True  \n",
       "13                 False  \n",
       "15                  True  \n",
       "...                  ...  \n",
       "1880440            False  \n",
       "1880446            False  \n",
       "1880448             True  \n",
       "1880451            False  \n",
       "1880453            False  \n",
       "\n",
       "[339004 rows x 10 columns]"
      ]
     },
     "execution_count": 151,
     "metadata": {},
     "output_type": "execute_result"
    }
   ],
   "source": [
    "rel_train.loc[np.asarray(kmeans.labels_, bool),:]\n"
   ]
  },
  {
   "cell_type": "code",
   "execution_count": 152,
   "id": "da2275da",
   "metadata": {},
   "outputs": [
    {
     "data": {
      "text/plain": [
       "Text(0, 0.5, 'Latitude')"
      ]
     },
     "execution_count": 152,
     "metadata": {},
     "output_type": "execute_result"
    },
    {
     "data": {
      "image/png": "[encoded data removed]",
      "text/plain": [
       "<Figure size 432x288 with 1 Axes>"
      ]
     },
     "metadata": {
      "needs_background": "light"
     },
     "output_type": "display_data"
    }
   ],
   "source": [
    "plt.scatter(rel_train['FIRE_SIZE'], rel_train['LATITUDE'], c=kmeans.labels_)\n",
    "plt.xlabel('Fire Size')\n",
    "plt.ylabel('Latitude')"
   ]
  },
  {
   "cell_type": "code",
   "execution_count": 153,
   "id": "6d3ec7ad",
   "metadata": {},
   "outputs": [
    {
     "data": {
      "text/plain": [
       "Text(0, 0.5, 'Latitude')"
      ]
     },
     "execution_count": 153,
     "metadata": {},
     "output_type": "execute_result"
    },
    {
     "data": {
      "image/png": "[encoded data removed]",
      "text/plain": [
       "<Figure size 432x864 with 2 Axes>"
      ]
     },
     "metadata": {
      "needs_background": "light"
     },
     "output_type": "display_data"
    }
   ],
   "source": [
    "fig, axes = plt.subplots(2,1, figsize=(6,12))\n",
    "axes[0].scatter(rel_train['DISCOVERY_DOY'], rel_train['FIRE_SIZE'], c=rel_train['cause_lightning'])\n",
    "axes[0].set_xlabel('Discovery Day')\n",
    "axes[0].set_ylabel('Fire Size')\n",
    "axes[1].scatter(rel_train['LONGITUDE'], rel_train['LATITUDE'], c=rel_train['cause_lightning'])\n",
    "axes[1].set_xlabel('Longitude')\n",
    "axes[1].set_ylabel('Latitude')"
   ]
  },
  {
   "cell_type": "markdown",
   "id": "2105e94b",
   "metadata": {},
   "source": [
    "Because we trained our clustering algorithm on the latitude and fire_size features, the algorithm divided the data into two clusters, primarily clustering according to whether the fire was in Alaska or in the mainland US. The unsupervised learning was a good test that the data makes sense but is not very predictive as to whether the cause of a given fire was lightning."
   ]
  },
  {
   "cell_type": "markdown",
   "id": "a9ec0b7f",
   "metadata": {},
   "source": [
    "# 3. Supervised machine learning"
   ]
  },
  {
   "cell_type": "markdown",
   "id": "ab875b68",
   "metadata": {},
   "source": [
    "## 3. a) Binary Classification Test"
   ]
  },
  {
   "cell_type": "markdown",
   "id": "15c3c4ab",
   "metadata": {},
   "source": [
    "As in the tutorial, we will use the method of logistic regression. For this method, we model the probability distribution for a binary classifier as \n",
    "\\\\[\n",
    "p(y_i = 1 | \\mathbf{x}_i, \\mathbf{w}) \\equiv \\sigma(\\mathbf{x}_i^T \\mathbf{w}) = \\frac{1}{1 + \\exp(-\\mathbf{x}_i^T \\mathbf{w})} \n",
    "\\\\]\n",
    "\n",
    "Here $\\mathbf{x}_i$ is the __feature vector__ and $\\mathbf{y}_i$ is the __label__ for the $i$-th data point.  The weights $\\mathbf{w}$ define the model: a larger weight for a given component of $\\mathbf{x}$ will give that feature more influence on the probability distribution.\n",
    "\n",
    "The cost function is readily found as the log-likelihood of the whole dataset to be\n",
    "\n",
    "\\\\[\n",
    "C(\\mathbf{w}) = -\\log \\prod_i P(y_i = 1)^{y_i} P(y_i = 0)^{1-y_i} \\\\\n",
    "= -\\sum_{i} \\left[\\mathbf{y}_i \\log \\sigma (\\mathbf{x}_i^T \\mathbf{w}) + (1-\\mathbf{y}_i) \\log (1 - \\sigma(\\mathbf{x}_i^T \\mathbf{w}) ) \\right].\n",
    "\\\\]"
   ]
  },
  {
   "cell_type": "code",
   "execution_count": 158,
   "id": "b2d3ab71",
   "metadata": {},
   "outputs": [],
   "source": [
    "def sigmoid(s):\n",
    "    return 1 / (1 + np.exp(-s))\n",
    "\n",
    "def cross_entropy(x, w, y):\n",
    "    \"\"\"\n",
    "    Compute the cross entropy, a.k.a. the log likelihood\n",
    "    for the logistic regression model..\n",
    "    \n",
    "    Inputs:\n",
    "      - x: 2d array of feature vectors, with features as columns.\n",
    "      - w: 1d array of feature weights, same length as a feature vector.\n",
    "      - y: 1d array of data labels, should be binary (1 or 0)\n",
    "      \n",
    "    Return:\n",
    "      - C(w): the cross entropy.\n",
    "    \"\"\"\n",
    "    \n",
    "    y = y.astype(int)\n",
    "    xw = np.matmul(x,w)\n",
    "    s = sigmoid(xw)\n",
    "    Ci = np.multiply(y,np.log(s)) + np.multiply((1 - y),np.log(1-s))\n",
    "    C = -sum(Ci)\n",
    "    \n",
    "        \n",
    "    return C\n",
    "    "
   ]
  },
  {
   "cell_type": "code",
   "execution_count": 159,
   "id": "90472e09",
   "metadata": {},
   "outputs": [
    {
     "data": {
      "text/plain": [
       "{'divide': 'ignore', 'over': 'ignore', 'under': 'ignore', 'invalid': 'ignore'}"
      ]
     },
     "execution_count": 159,
     "metadata": {},
     "output_type": "execute_result"
    }
   ],
   "source": [
    "import scipy.optimize as opt\n",
    "\n",
    "features = ['FIRE_YEAR', 'DISCOVERY_DOY', 'FIRE_SIZE', 'LATITUDE','LONGITUDE']\n",
    "\n",
    "\n",
    "def CE_train(w):\n",
    "    return cross_entropy(rel_train[features].values, w, rel_train['cause_lightning'].values)\n",
    "\n",
    "np.seterr(all = 'ignore') \n",
    "res = opt.minimize(CE_train, [0,0,0,0,0])\n",
    "w_opt = res.x\n",
    "np.seterr(all = 'warn') "
   ]
  },
  {
   "cell_type": "code",
   "execution_count": 160,
   "id": "9a3e4a23",
   "metadata": {},
   "outputs": [
    {
     "name": "stderr",
     "output_type": "stream",
     "text": [
      "/var/folders/b_/cqsdh0494d95ffr4z95wlkyr0000gn/T/ipykernel_797/2765966117.py:2: RuntimeWarning: underflow encountered in exp\n",
      "  return 1 / (1 + np.exp(-s))\n",
      "/var/folders/b_/cqsdh0494d95ffr4z95wlkyr0000gn/T/ipykernel_797/1458392268.py:1: SettingWithCopyWarning: \n",
      "A value is trying to be set on a copy of a slice from a DataFrame.\n",
      "Try using .loc[row_indexer,col_indexer] = value instead\n",
      "\n",
      "See the caveats in the documentation: https://pandas.pydata.org/pandas-docs/stable/user_guide/indexing.html#returning-a-view-versus-a-copy\n",
      "  rel_train['p_lightning'] = sigmoid(np.sum(rel_train[features].values * w_opt, axis=1))\n"
     ]
    }
   ],
   "source": [
    "rel_train['p_lightning'] = sigmoid(np.sum(rel_train[features].values * w_opt, axis=1))"
   ]
  },
  {
   "cell_type": "code",
   "execution_count": 78,
   "id": "531ad686",
   "metadata": {},
   "outputs": [
    {
     "data": {
      "text/plain": [
       "Text(0, 0.5, 'Prob. Lightning')"
      ]
     },
     "execution_count": 78,
     "metadata": {},
     "output_type": "execute_result"
    },
    {
     "data": {
      "image/png": "[encoded data removed]",
      "text/plain": [
       "<Figure size 432x288 with 1 Axes>"
      ]
     },
     "metadata": {
      "needs_background": "light"
     },
     "output_type": "display_data"
    }
   ],
   "source": [
    "plt.scatter(rel_train['FIRE_SIZE'], rel_train['p_lightning'], c=rel_train['cause_lightning'])\n",
    "plt.xlabel('Fire Size')\n",
    "plt.ylabel('Prob. Lightning')"
   ]
  },
  {
   "cell_type": "markdown",
   "id": "1b35747a",
   "metadata": {},
   "source": [
    "Let's verify how well the algorithm does on the test data:"
   ]
  },
  {
   "cell_type": "code",
   "execution_count": 162,
   "id": "182b7f4d",
   "metadata": {},
   "outputs": [
    {
     "name": "stderr",
     "output_type": "stream",
     "text": [
      "/var/folders/b_/cqsdh0494d95ffr4z95wlkyr0000gn/T/ipykernel_797/2765966117.py:2: RuntimeWarning: underflow encountered in exp\n",
      "  return 1 / (1 + np.exp(-s))\n",
      "/var/folders/b_/cqsdh0494d95ffr4z95wlkyr0000gn/T/ipykernel_797/2060017643.py:1: SettingWithCopyWarning: \n",
      "A value is trying to be set on a copy of a slice from a DataFrame.\n",
      "Try using .loc[row_indexer,col_indexer] = value instead\n",
      "\n",
      "See the caveats in the documentation: https://pandas.pydata.org/pandas-docs/stable/user_guide/indexing.html#returning-a-view-versus-a-copy\n",
      "  rel_test['p_lightning'] = sigmoid(np.sum(rel_test[features].values * w_opt, axis=1))\n"
     ]
    },
    {
     "data": {
      "text/plain": [
       "<matplotlib.collections.PathCollection at 0x168fe67c0>"
      ]
     },
     "execution_count": 162,
     "metadata": {},
     "output_type": "execute_result"
    },
    {
     "data": {
      "image/png": "[encoded data removed]",
      "text/plain": [
       "<Figure size 432x288 with 1 Axes>"
      ]
     },
     "metadata": {
      "needs_background": "light"
     },
     "output_type": "display_data"
    }
   ],
   "source": [
    "rel_test['p_lightning'] = sigmoid(np.sum(rel_test[features].values * w_opt, axis=1))\n",
    "\n",
    "plt.scatter(rel_test['FIRE_SIZE'], rel_test['p_lightning'], c=rel_test['cause_lightning'])"
   ]
  },
  {
   "cell_type": "markdown",
   "id": "61f4a383",
   "metadata": {},
   "source": [
    "Let's quantify exactly how well it's doing. We define the __false positive rate__ (number of non-lightning events incorrectly labelled as caused by lightning, divided by the total number of events) and the __false negative rate__ (lightning events labelled as non-lightning).  \n",
    "\n",
    "We set the threshold for lightning events at $p > 0.5$."
   ]
  },
  {
   "cell_type": "code",
   "execution_count": 163,
   "id": "50f8eee3",
   "metadata": {},
   "outputs": [
    {
     "name": "stdout",
     "output_type": "stream",
     "text": [
      "False positive rate:  0.17986871337960886\n",
      "False negative rate:  0.08772202461120512\n"
     ]
    }
   ],
   "source": [
    "false_positive = np.sum(~rel_test[rel_test['p_lightning'] > .5]['cause_lightning']) / len(rel_test) \n",
    "false_negative = np.sum(rel_test[rel_test['p_lightning'] < 0.5]['cause_lightning']) / len(rel_test) \n",
    "\n",
    "print(\"False positive rate: \", false_positive)\n",
    "print(\"False negative rate: \", false_negative)"
   ]
  },
  {
   "cell_type": "markdown",
   "id": "57b9e379",
   "metadata": {},
   "source": [
    "We see not great performance in terms of false positives but pretty good performance with regards to false negatives. Let's try a full classification test to see if we can do better with a more sophisticated model."
   ]
  },
  {
   "cell_type": "markdown",
   "id": "7a9d1955",
   "metadata": {},
   "source": [
    "## 3. b) Full Classification Test"
   ]
  },
  {
   "cell_type": "markdown",
   "id": "a74c1869",
   "metadata": {},
   "source": [
    "For the full classification of wildfire causes, we will move to a non-binary classification model. I'll try the Random Forest model."
   ]
  },
  {
   "cell_type": "markdown",
   "id": "c60f72e7",
   "metadata": {},
   "source": [
    "### Features and Labels"
   ]
  },
  {
   "cell_type": "markdown",
   "id": "26be410d",
   "metadata": {},
   "source": [
    "Let's drop all rows where the cause is missing/undefined or miscellaneous and focus on causes the model would actually be able to predict so we don't throw off the model."
   ]
  },
  {
   "cell_type": "code",
   "execution_count": 198,
   "id": "1f127fb6",
   "metadata": {},
   "outputs": [
    {
     "data": {
      "text/html": [
       "<div>\n",
       "<style scoped>\n",
       "    .dataframe tbody tr th:only-of-type {\n",
       "        vertical-align: middle;\n",
       "    }\n",
       "\n",
       "    .dataframe tbody tr th {\n",
       "        vertical-align: top;\n",
       "    }\n",
       "\n",
       "    .dataframe thead th {\n",
       "        text-align: right;\n",
       "    }\n",
       "</style>\n",
       "<table border=\"1\" class=\"dataframe\">\n",
       "  <thead>\n",
       "    <tr style=\"text-align: right;\">\n",
       "      <th></th>\n",
       "      <th>FIRE_YEAR</th>\n",
       "      <th>DISCOVERY_DOY</th>\n",
       "      <th>STAT_CAUSE_CODE</th>\n",
       "      <th>STAT_CAUSE_DESCR</th>\n",
       "      <th>FIRE_SIZE</th>\n",
       "      <th>LATITUDE</th>\n",
       "      <th>LONGITUDE</th>\n",
       "    </tr>\n",
       "  </thead>\n",
       "  <tbody>\n",
       "    <tr>\n",
       "      <th>1</th>\n",
       "      <td>0.521739</td>\n",
       "      <td>0.361644</td>\n",
       "      <td>1.0</td>\n",
       "      <td>Lightning</td>\n",
       "      <td>4.117507e-07</td>\n",
       "      <td>0.400646</td>\n",
       "      <td>0.514314</td>\n",
       "    </tr>\n",
       "    <tr>\n",
       "      <th>2</th>\n",
       "      <td>0.521739</td>\n",
       "      <td>0.413699</td>\n",
       "      <td>5.0</td>\n",
       "      <td>Debris Burning</td>\n",
       "      <td>1.646113e-07</td>\n",
       "      <td>0.401622</td>\n",
       "      <td>0.511398</td>\n",
       "    </tr>\n",
       "    <tr>\n",
       "      <th>3</th>\n",
       "      <td>0.521739</td>\n",
       "      <td>0.490411</td>\n",
       "      <td>1.0</td>\n",
       "      <td>Lightning</td>\n",
       "      <td>1.646113e-07</td>\n",
       "      <td>0.393509</td>\n",
       "      <td>0.518640</td>\n",
       "    </tr>\n",
       "    <tr>\n",
       "      <th>4</th>\n",
       "      <td>0.521739</td>\n",
       "      <td>0.490411</td>\n",
       "      <td>1.0</td>\n",
       "      <td>Lightning</td>\n",
       "      <td>1.646113e-07</td>\n",
       "      <td>0.393509</td>\n",
       "      <td>0.518466</td>\n",
       "    </tr>\n",
       "    <tr>\n",
       "      <th>5</th>\n",
       "      <td>0.521739</td>\n",
       "      <td>0.495890</td>\n",
       "      <td>1.0</td>\n",
       "      <td>Lightning</td>\n",
       "      <td>1.646113e-07</td>\n",
       "      <td>0.394962</td>\n",
       "      <td>0.516964</td>\n",
       "    </tr>\n",
       "    <tr>\n",
       "      <th>...</th>\n",
       "      <td>...</td>\n",
       "      <td>...</td>\n",
       "      <td>...</td>\n",
       "      <td>...</td>\n",
       "      <td>...</td>\n",
       "      <td>...</td>\n",
       "      <td>...</td>\n",
       "    </tr>\n",
       "    <tr>\n",
       "      <th>1880451</th>\n",
       "      <td>1.000000</td>\n",
       "      <td>0.427397</td>\n",
       "      <td>2.0</td>\n",
       "      <td>Equipment Use</td>\n",
       "      <td>1.647447e-06</td>\n",
       "      <td>0.395132</td>\n",
       "      <td>0.510270</td>\n",
       "    </tr>\n",
       "    <tr>\n",
       "      <th>1880452</th>\n",
       "      <td>1.000000</td>\n",
       "      <td>0.282192</td>\n",
       "      <td>5.0</td>\n",
       "      <td>Debris Burning</td>\n",
       "      <td>1.975632e-07</td>\n",
       "      <td>0.309592</td>\n",
       "      <td>0.529384</td>\n",
       "    </tr>\n",
       "    <tr>\n",
       "      <th>1880453</th>\n",
       "      <td>1.000000</td>\n",
       "      <td>0.512329</td>\n",
       "      <td>8.0</td>\n",
       "      <td>Children</td>\n",
       "      <td>1.975632e-07</td>\n",
       "      <td>0.311789</td>\n",
       "      <td>0.530020</td>\n",
       "    </tr>\n",
       "    <tr>\n",
       "      <th>1880457</th>\n",
       "      <td>1.000000</td>\n",
       "      <td>0.745205</td>\n",
       "      <td>7.0</td>\n",
       "      <td>Arson</td>\n",
       "      <td>1.647447e-06</td>\n",
       "      <td>0.432249</td>\n",
       "      <td>0.490842</td>\n",
       "    </tr>\n",
       "    <tr>\n",
       "      <th>1880458</th>\n",
       "      <td>1.000000</td>\n",
       "      <td>0.580822</td>\n",
       "      <td>1.0</td>\n",
       "      <td>Lightning</td>\n",
       "      <td>6.590235e-06</td>\n",
       "      <td>0.425687</td>\n",
       "      <td>0.486663</td>\n",
       "    </tr>\n",
       "  </tbody>\n",
       "</table>\n",
       "<p>1389937 rows × 7 columns</p>\n",
       "</div>"
      ],
      "text/plain": [
       "         FIRE_YEAR  DISCOVERY_DOY  STAT_CAUSE_CODE STAT_CAUSE_DESCR  \\\n",
       "1         0.521739       0.361644              1.0        Lightning   \n",
       "2         0.521739       0.413699              5.0   Debris Burning   \n",
       "3         0.521739       0.490411              1.0        Lightning   \n",
       "4         0.521739       0.490411              1.0        Lightning   \n",
       "5         0.521739       0.495890              1.0        Lightning   \n",
       "...            ...            ...              ...              ...   \n",
       "1880451   1.000000       0.427397              2.0    Equipment Use   \n",
       "1880452   1.000000       0.282192              5.0   Debris Burning   \n",
       "1880453   1.000000       0.512329              8.0         Children   \n",
       "1880457   1.000000       0.745205              7.0            Arson   \n",
       "1880458   1.000000       0.580822              1.0        Lightning   \n",
       "\n",
       "            FIRE_SIZE  LATITUDE  LONGITUDE  \n",
       "1        4.117507e-07  0.400646   0.514314  \n",
       "2        1.646113e-07  0.401622   0.511398  \n",
       "3        1.646113e-07  0.393509   0.518640  \n",
       "4        1.646113e-07  0.393509   0.518466  \n",
       "5        1.646113e-07  0.394962   0.516964  \n",
       "...               ...       ...        ...  \n",
       "1880451  1.647447e-06  0.395132   0.510270  \n",
       "1880452  1.975632e-07  0.309592   0.529384  \n",
       "1880453  1.975632e-07  0.311789   0.530020  \n",
       "1880457  1.647447e-06  0.432249   0.490842  \n",
       "1880458  6.590235e-06  0.425687   0.486663  \n",
       "\n",
       "[1389937 rows x 7 columns]"
      ]
     },
     "execution_count": 198,
     "metadata": {},
     "output_type": "execute_result"
    }
   ],
   "source": [
    "features_df = pd.read_sql('SELECT FIRE_YEAR, DISCOVERY_DOY,  STAT_CAUSE_CODE, STAT_CAUSE_DESCR, FIRE_SIZE, LATITUDE, LONGITUDE FROM fires',conn)\n",
    "features = ['FIRE_YEAR', 'DISCOVERY_DOY', 'FIRE_SIZE', 'LATITUDE','LONGITUDE']\n",
    "#features_df[\"DISCOVERY_TIME\"] = pd.to_numeric(features_df['DISCOVERY_TIME'])\n",
    "\n",
    "features_df.drop(features_df.index[features_df['STAT_CAUSE_DESCR'] == 'Missing/Undefined'], inplace=True)\n",
    "features_df.drop(features_df.index[features_df['STAT_CAUSE_DESCR'] == 'Miscellaneous'], inplace=True)\n",
    "\n",
    "for col_name in ['FIRE_YEAR', 'DISCOVERY_DOY', 'FIRE_SIZE', 'LATITUDE','LONGITUDE']:\n",
    "    features_df[col_name] = normalize_col(features_df[col_name])\n",
    "    \n",
    "features_df \n",
    "\n"
   ]
  },
  {
   "cell_type": "code",
   "execution_count": 199,
   "id": "c0e97f6f",
   "metadata": {},
   "outputs": [],
   "source": [
    "# Use numpy to convert to arrays\n",
    "\n",
    "# Labels are the values we want to predict\n",
    "labels = np.array(features_df['STAT_CAUSE_CODE'])\n",
    "labels_descr = np.array(features_df['STAT_CAUSE_DESCR'])\n",
    "\n",
    "# Remove the labels from the features\n",
    "features_df = features_df.drop(['STAT_CAUSE_DESCR','STAT_CAUSE_CODE'], axis = 1)\n",
    "\n",
    "# Saving feature names for later use\n",
    "feature_list = list(features_df.columns)\n",
    "\n",
    "# Convert to numpy array\n",
    "features_pd_df = features_df\n",
    "features_df = np.array(features_df)"
   ]
  },
  {
   "cell_type": "markdown",
   "id": "951437e6",
   "metadata": {},
   "source": [
    "### Training and test datasets"
   ]
  },
  {
   "cell_type": "code",
   "execution_count": 200,
   "id": "08dc21e8",
   "metadata": {},
   "outputs": [],
   "source": [
    "# Skicit-learn splits data into training and testing sets\n",
    "from sklearn.model_selection import train_test_split\n",
    "\n",
    "# Split the data into training and testing sets\n",
    "train_features, test_features, train_labels, test_labels = train_test_split(features_df, labels, test_size = 0.4, random_state = 42)"
   ]
  },
  {
   "cell_type": "code",
   "execution_count": 201,
   "id": "72b0cdd7",
   "metadata": {},
   "outputs": [
    {
     "name": "stdout",
     "output_type": "stream",
     "text": [
      "Training Features Shape: (833962, 5)\n",
      "Training Labels Shape: (833962,)\n",
      "Testing Features Shape: (555975, 5)\n",
      "Testing Labels Shape: (555975,)\n"
     ]
    }
   ],
   "source": [
    "print('Training Features Shape:', train_features.shape)\n",
    "print('Training Labels Shape:', train_labels.shape)\n",
    "print('Testing Features Shape:', test_features.shape)\n",
    "print('Testing Labels Shape:', test_labels.shape)"
   ]
  },
  {
   "cell_type": "markdown",
   "id": "8f486c39",
   "metadata": {},
   "source": [
    "### Training the forest"
   ]
  },
  {
   "cell_type": "markdown",
   "id": "c00d8024",
   "metadata": {},
   "source": [
    "We train the forest with a random forest classifier model. We start with a low number of estimators (n_estimators = 10) so that it does not take too long since the dataset is so large. We set the seed with random_state = 42 so that the training is deterministic. "
   ]
  },
  {
   "cell_type": "code",
   "execution_count": 202,
   "id": "21e4f085",
   "metadata": {},
   "outputs": [],
   "source": [
    "# Import the model we are using\n",
    "from sklearn.ensemble import RandomForestClassifier\n",
    "\n",
    "# Instantiate model \n",
    "rf = RandomForestClassifier(n_estimators= 10,random_state = 42)\n",
    "\n",
    "# Train the model on training data\n",
    "rf.fit(train_features, train_labels);"
   ]
  },
  {
   "cell_type": "markdown",
   "id": "490d1f2a",
   "metadata": {},
   "source": [
    "### Testing the predictions"
   ]
  },
  {
   "cell_type": "code",
   "execution_count": 203,
   "id": "3aec46b6",
   "metadata": {},
   "outputs": [
    {
     "name": "stdout",
     "output_type": "stream",
     "text": [
      "\n",
      "ACCURACY OF THE MODEL ON TEST SET:  0.5910967219749089\n"
     ]
    }
   ],
   "source": [
    "# Use the forest's predict method on the test data\n",
    "predictions = rf.predict(test_features)\n",
    "\n",
    "# metrics are used to find accuracy or error\n",
    "from sklearn import metrics \n",
    "print()\n",
    " \n",
    "# using metrics module for accuracy calculation\n",
    "print(\"ACCURACY OF THE MODEL ON TEST SET: \", metrics.accuracy_score(test_labels, predictions))"
   ]
  },
  {
   "cell_type": "code",
   "execution_count": 204,
   "id": "c3374831",
   "metadata": {},
   "outputs": [
    {
     "name": "stdout",
     "output_type": "stream",
     "text": [
      "[5. 7. 7. 4. 8. 4. 2. 2. 5. 1.]\n",
      "[5. 5. 7. 5. 1. 1. 5. 2. 5. 1.]\n"
     ]
    }
   ],
   "source": [
    "print(test_labels[0:10])\n",
    "print(predictions[0:10])\n"
   ]
  },
  {
   "cell_type": "markdown",
   "id": "9a033628",
   "metadata": {},
   "source": [
    "59% accuracy doesn't seem very good, but considering that some of the wildfire causes would look pretty similar from the data available (for example distinguishing between wildfires started by children vs. by arson), the model does not seem too bad. How accurate is the model on the training data? That could be an indicator of whether there is too much variability in the data to do much better with our model."
   ]
  },
  {
   "cell_type": "code",
   "execution_count": 205,
   "id": "44f343e0",
   "metadata": {},
   "outputs": [
    {
     "name": "stdout",
     "output_type": "stream",
     "text": [
      "ACCURACY OF THE MODEL ON TRAIN SET:  0.9836587278557056\n"
     ]
    }
   ],
   "source": [
    "# Use the forest's predict method on the test data\n",
    "predictionsTrain = rf.predict(train_features)\n",
    " \n",
    "# using metrics module for accuracy calculation\n",
    "print(\"ACCURACY OF THE MODEL ON TRAIN SET: \", metrics.accuracy_score(train_labels, predictionsTrain))"
   ]
  },
  {
   "cell_type": "markdown",
   "id": "073ee072",
   "metadata": {},
   "source": [
    "The model is performing extremely well on the training data set and much worse on the testing data set. This suggests the model is overfitting quite a bit. "
   ]
  },
  {
   "cell_type": "markdown",
   "id": "caf89962",
   "metadata": {},
   "source": [
    "### Tuning the hyperparameters to optimize the model"
   ]
  },
  {
   "cell_type": "markdown",
   "id": "f2e08ce1",
   "metadata": {},
   "source": [
    "Note: I tried using GridSearchCV for a comprehensive and through search through the hyperparameter space but it was too computationally expensive on the large dataset. Instead, I will try using a randomized search to reduce computational time."
   ]
  },
  {
   "cell_type": "markdown",
   "id": "7fc462a9",
   "metadata": {},
   "source": [
    "First, we look at our current hyperparameter values."
   ]
  },
  {
   "cell_type": "code",
   "execution_count": 15,
   "id": "8dc71926",
   "metadata": {},
   "outputs": [
    {
     "name": "stdout",
     "output_type": "stream",
     "text": [
      "Currently using parameters:\n",
      "\n",
      "{'bootstrap': True,\n",
      " 'ccp_alpha': 0.0,\n",
      " 'class_weight': None,\n",
      " 'criterion': 'gini',\n",
      " 'max_depth': None,\n",
      " 'max_features': 'auto',\n",
      " 'max_leaf_nodes': None,\n",
      " 'max_samples': None,\n",
      " 'min_impurity_decrease': 0.0,\n",
      " 'min_samples_leaf': 1,\n",
      " 'min_samples_split': 2,\n",
      " 'min_weight_fraction_leaf': 0.0,\n",
      " 'n_estimators': 128,\n",
      " 'n_jobs': None,\n",
      " 'oob_score': False,\n",
      " 'random_state': None,\n",
      " 'verbose': 0,\n",
      " 'warm_start': False}\n"
     ]
    }
   ],
   "source": [
    "from pprint import pprint\n",
    "# Look at parameters used by our current forest\n",
    "print('Currently using parameters:\\n')\n",
    "pprint(rf.get_params())"
   ]
  },
  {
   "cell_type": "markdown",
   "id": "21d1598c",
   "metadata": {},
   "source": [
    "Some parameters that could be optimized are number of trees in the forest (n_estimators), number of levels in the tree (max_depth), minimum number of samples to split a node, etc."
   ]
  },
  {
   "cell_type": "code",
   "execution_count": 16,
   "id": "7efeb810",
   "metadata": {},
   "outputs": [
    {
     "name": "stdout",
     "output_type": "stream",
     "text": [
      "{'bootstrap': [True, False],\n",
      " 'max_depth': [10, 20, 30, 40, 50, 60, 70, 80, 90, 100, None],\n",
      " 'min_samples_leaf': [1, 2, 4],\n",
      " 'min_samples_split': [2, 5, 10],\n",
      " 'n_estimators': [100, 200, 300, 400, 500, 600, 700, 800, 900, 1000]}\n"
     ]
    },
    {
     "data": {
      "text/plain": [
       "{'bootstrap': [True, False],\n",
       " 'max_depth': [10, 20, 30, 40, 50, 60, 70, 80, 90, 100, None],\n",
       " 'min_samples_leaf': [1, 2, 4],\n",
       " 'min_samples_split': [2, 5, 10],\n",
       " 'n_estimators': [100, 200, 300, 400, 500, 600, 700, 800, 900, 1000]}"
      ]
     },
     "execution_count": 16,
     "metadata": {},
     "output_type": "execute_result"
    }
   ],
   "source": [
    "from sklearn.model_selection import RandomizedSearchCV\n",
    "\n",
    "# Number of trees in forest\n",
    "n_estimators = [int(x) for x in np.linspace(100,1000,10)]\n",
    "\n",
    "# Maximum number of levels in tree\n",
    "max_depth = [int(x) for x in np.linspace(10, 100, 10)]\n",
    "max_depth.append(None)\n",
    "\n",
    "# Minimum number of samples required to split a node\n",
    "min_samples_split = [2, 5, 10]\n",
    "\n",
    "# Minimum number of samples required at each leaf node\n",
    "min_samples_leaf = [1, 2, 4]\n",
    "\n",
    "# Method of selecting samples for training each tree\n",
    "bootstrap = [True, False]\n",
    "\n",
    "# Create the random grid\n",
    "random_grid = {'n_estimators': n_estimators,\n",
    "               'max_depth': max_depth,\n",
    "               'min_samples_split': min_samples_split,\n",
    "               'min_samples_leaf': min_samples_leaf,\n",
    "               'bootstrap': bootstrap}\n",
    "pprint(random_grid)\n",
    "{'bootstrap': [True, False],\n",
    " 'max_depth': [10, 20, 30, 40, 50, 60, 70, 80, 90, 100, None],\n",
    " 'min_samples_leaf': [1, 2, 4],\n",
    " 'min_samples_split': [2, 5, 10],\n",
    " 'n_estimators': [100, 200, 300, 400, 500, 600, 700, 800, 900, 1000]}"
   ]
  },
  {
   "cell_type": "markdown",
   "id": "1b9d63f5",
   "metadata": {},
   "source": [
    "Now that we have a long list of hyperparameter combinations to try, we use a random grid to search for the best combination. We will start with trying just 20 different combinations and using 2 cores so the process does not take prohibitively long. Tried using all available cores but it kept shutting my computer down for some reason."
   ]
  },
  {
   "cell_type": "code",
   "execution_count": 17,
   "id": "26d36adc",
   "metadata": {},
   "outputs": [
    {
     "name": "stdout",
     "output_type": "stream",
     "text": [
      "Fitting 3 folds for each of 20 candidates, totalling 60 fits\n",
      "[CV] END bootstrap=False, max_depth=50, min_samples_leaf=4, min_samples_split=5, n_estimators=900; total time=28.6min\n",
      "[CV] END bootstrap=False, max_depth=50, min_samples_leaf=4, min_samples_split=5, n_estimators=900; total time=28.4min\n",
      "[CV] END bootstrap=True, max_depth=40, min_samples_leaf=4, min_samples_split=10, n_estimators=200; total time= 4.4min\n",
      "[CV] END bootstrap=False, max_depth=80, min_samples_leaf=4, min_samples_split=2, n_estimators=200; total time= 6.1min\n",
      "[CV] END bootstrap=False, max_depth=80, min_samples_leaf=4, min_samples_split=2, n_estimators=200; total time= 6.1min\n",
      "[CV] END bootstrap=False, max_depth=90, min_samples_leaf=1, min_samples_split=10, n_estimators=100; total time= 3.1min\n",
      "[CV] END bootstrap=False, max_depth=90, min_samples_leaf=4, min_samples_split=10, n_estimators=400; total time=12.2min\n",
      "[CV] END bootstrap=False, max_depth=90, min_samples_leaf=4, min_samples_split=10, n_estimators=400; total time=12.4min\n",
      "[CV] END bootstrap=True, max_depth=60, min_samples_leaf=1, min_samples_split=5, n_estimators=500; total time=12.6min\n",
      "[CV] END bootstrap=True, max_depth=50, min_samples_leaf=2, min_samples_split=10, n_estimators=500; total time=11.4min\n",
      "[CV] END bootstrap=True, max_depth=50, min_samples_leaf=2, min_samples_split=10, n_estimators=500; total time=11.5min\n",
      "[CV] END bootstrap=False, max_depth=80, min_samples_leaf=2, min_samples_split=2, n_estimators=400; total time=13.9min\n",
      "[CV] END bootstrap=True, max_depth=10, min_samples_leaf=4, min_samples_split=2, n_estimators=1000; total time=13.6min\n",
      "[CV] END bootstrap=True, max_depth=10, min_samples_leaf=4, min_samples_split=2, n_estimators=1000; total time=13.3min\n",
      "[CV] END bootstrap=False, max_depth=20, min_samples_leaf=2, min_samples_split=2, n_estimators=700; total time=19.8min\n",
      "[CV] END bootstrap=False, max_depth=10, min_samples_leaf=4, min_samples_split=10, n_estimators=400; total time= 6.7min\n",
      "[CV] END bootstrap=False, max_depth=10, min_samples_leaf=4, min_samples_split=10, n_estimators=400; total time= 6.9min\n",
      "[CV] END bootstrap=False, max_depth=50, min_samples_leaf=1, min_samples_split=10, n_estimators=1000; total time=32.7min\n",
      "[CV] END bootstrap=False, max_depth=50, min_samples_leaf=1, min_samples_split=10, n_estimators=1000; total time=33.4min\n",
      "[CV] END bootstrap=True, max_depth=30, min_samples_leaf=4, min_samples_split=2, n_estimators=800; total time=18.1min\n",
      "[CV] END bootstrap=False, max_depth=80, min_samples_leaf=4, min_samples_split=5, n_estimators=500; total time=15.7min\n",
      "[CV] END bootstrap=False, max_depth=60, min_samples_leaf=1, min_samples_split=5, n_estimators=700; total time=24.7min\n",
      "[CV] END bootstrap=False, max_depth=60, min_samples_leaf=1, min_samples_split=5, n_estimators=700; total time=24.7min\n",
      "[CV] END bootstrap=False, max_depth=40, min_samples_leaf=2, min_samples_split=10, n_estimators=900; total time=29.2min\n",
      "[CV] END bootstrap=False, max_depth=20, min_samples_leaf=1, min_samples_split=10, n_estimators=800; total time=22.4min\n",
      "[CV] END bootstrap=False, max_depth=20, min_samples_leaf=1, min_samples_split=10, n_estimators=800; total time=22.3min\n",
      "[CV] END bootstrap=True, max_depth=None, min_samples_leaf=4, min_samples_split=10, n_estimators=500; total time=11.2min\n",
      "[CV] END bootstrap=True, max_depth=70, min_samples_leaf=2, min_samples_split=5, n_estimators=300; total time= 7.2min\n",
      "[CV] END bootstrap=False, max_depth=50, min_samples_leaf=4, min_samples_split=5, n_estimators=900; total time=28.6min\n",
      "[CV] END bootstrap=True, max_depth=10, min_samples_leaf=2, min_samples_split=10, n_estimators=700; total time= 9.2min\n",
      "[CV] END bootstrap=True, max_depth=10, min_samples_leaf=2, min_samples_split=10, n_estimators=700; total time= 9.3min\n",
      "[CV] END bootstrap=True, max_depth=10, min_samples_leaf=2, min_samples_split=10, n_estimators=700; total time= 9.4min\n",
      "[CV] END bootstrap=True, max_depth=40, min_samples_leaf=4, min_samples_split=10, n_estimators=200; total time= 4.4min\n",
      "[CV] END bootstrap=True, max_depth=40, min_samples_leaf=4, min_samples_split=10, n_estimators=200; total time= 4.4min\n",
      "[CV] END bootstrap=False, max_depth=80, min_samples_leaf=4, min_samples_split=2, n_estimators=200; total time= 6.1min\n",
      "[CV] END bootstrap=False, max_depth=90, min_samples_leaf=1, min_samples_split=10, n_estimators=100; total time= 3.1min\n",
      "[CV] END bootstrap=False, max_depth=90, min_samples_leaf=1, min_samples_split=10, n_estimators=100; total time= 3.1min\n",
      "[CV] END bootstrap=False, max_depth=90, min_samples_leaf=4, min_samples_split=10, n_estimators=400; total time=12.2min\n",
      "[CV] END bootstrap=True, max_depth=60, min_samples_leaf=1, min_samples_split=5, n_estimators=500; total time=12.3min\n",
      "[CV] END bootstrap=True, max_depth=60, min_samples_leaf=1, min_samples_split=5, n_estimators=500; total time=12.7min\n",
      "[CV] END bootstrap=True, max_depth=50, min_samples_leaf=2, min_samples_split=10, n_estimators=500; total time=11.5min\n",
      "[CV] END bootstrap=False, max_depth=80, min_samples_leaf=2, min_samples_split=2, n_estimators=400; total time=13.7min\n",
      "[CV] END bootstrap=False, max_depth=80, min_samples_leaf=2, min_samples_split=2, n_estimators=400; total time=13.8min\n",
      "[CV] END bootstrap=True, max_depth=10, min_samples_leaf=4, min_samples_split=2, n_estimators=1000; total time=13.5min\n",
      "[CV] END bootstrap=False, max_depth=20, min_samples_leaf=2, min_samples_split=2, n_estimators=700; total time=19.8min\n",
      "[CV] END bootstrap=False, max_depth=20, min_samples_leaf=2, min_samples_split=2, n_estimators=700; total time=19.9min\n",
      "[CV] END bootstrap=False, max_depth=10, min_samples_leaf=4, min_samples_split=10, n_estimators=400; total time= 6.7min\n",
      "[CV] END bootstrap=False, max_depth=50, min_samples_leaf=1, min_samples_split=10, n_estimators=1000; total time=32.8min\n",
      "[CV] END bootstrap=True, max_depth=30, min_samples_leaf=4, min_samples_split=2, n_estimators=800; total time=18.0min\n",
      "[CV] END bootstrap=True, max_depth=30, min_samples_leaf=4, min_samples_split=2, n_estimators=800; total time=18.3min\n",
      "[CV] END bootstrap=False, max_depth=80, min_samples_leaf=4, min_samples_split=5, n_estimators=500; total time=15.7min\n",
      "[CV] END bootstrap=False, max_depth=80, min_samples_leaf=4, min_samples_split=5, n_estimators=500; total time=15.7min\n",
      "[CV] END bootstrap=False, max_depth=60, min_samples_leaf=1, min_samples_split=5, n_estimators=700; total time=24.8min\n",
      "[CV] END bootstrap=False, max_depth=40, min_samples_leaf=2, min_samples_split=10, n_estimators=900; total time=29.2min\n",
      "[CV] END bootstrap=False, max_depth=40, min_samples_leaf=2, min_samples_split=10, n_estimators=900; total time=29.0min\n",
      "[CV] END bootstrap=False, max_depth=20, min_samples_leaf=1, min_samples_split=10, n_estimators=800; total time=22.2min\n",
      "[CV] END bootstrap=True, max_depth=None, min_samples_leaf=4, min_samples_split=10, n_estimators=500; total time=10.9min\n",
      "[CV] END bootstrap=True, max_depth=None, min_samples_leaf=4, min_samples_split=10, n_estimators=500; total time=11.2min\n",
      "[CV] END bootstrap=True, max_depth=70, min_samples_leaf=2, min_samples_split=5, n_estimators=300; total time= 7.2min\n",
      "[CV] END bootstrap=True, max_depth=70, min_samples_leaf=2, min_samples_split=5, n_estimators=300; total time= 6.8min\n"
     ]
    },
    {
     "data": {
      "text/plain": [
       "RandomizedSearchCV(cv=3, estimator=RandomForestClassifier(), n_iter=20,\n",
       "                   n_jobs=2,\n",
       "                   param_distributions={'bootstrap': [True, False],\n",
       "                                        'max_depth': [10, 20, 30, 40, 50, 60,\n",
       "                                                      70, 80, 90, 100, None],\n",
       "                                        'min_samples_leaf': [1, 2, 4],\n",
       "                                        'min_samples_split': [2, 5, 10],\n",
       "                                        'n_estimators': [100, 200, 300, 400,\n",
       "                                                         500, 600, 700, 800,\n",
       "                                                         900, 1000]},\n",
       "                   random_state=42, verbose=2)"
      ]
     },
     "execution_count": 17,
     "metadata": {},
     "output_type": "execute_result"
    }
   ],
   "source": [
    "# Use the random grid to search for best hyperparameters\n",
    "# First create the base model to tune\n",
    "rf = RandomForestClassifier()\n",
    "\n",
    "# Random search of parameters, using 3 fold cross validation, \n",
    "# search across 20 different combinations, and use all available cores\n",
    "rf_random = RandomizedSearchCV(estimator = rf, param_distributions = random_grid, n_iter = 20, cv = 3, verbose=2, random_state=42, n_jobs = 3)\n",
    "\n",
    "# Fit the random search model\n",
    "rf_random.fit(train_features, train_labels)\n",
    "\n"
   ]
  },
  {
   "cell_type": "code",
   "execution_count": 206,
   "id": "37bf769b",
   "metadata": {},
   "outputs": [
    {
     "data": {
      "text/plain": [
       "{'n_estimators': 500,\n",
       " 'min_samples_split': 5,\n",
       " 'min_samples_leaf': 1,\n",
       " 'max_depth': 60,\n",
       " 'bootstrap': True}"
      ]
     },
     "execution_count": 206,
     "metadata": {},
     "output_type": "execute_result"
    }
   ],
   "source": [
    "rf_random.best_params_"
   ]
  },
  {
   "cell_type": "code",
   "execution_count": 207,
   "id": "70824bdb",
   "metadata": {},
   "outputs": [
    {
     "name": "stdout",
     "output_type": "stream",
     "text": [
      "Model Performance\n",
      "Accuracy = 59.11%.\n"
     ]
    }
   ],
   "source": [
    "def evaluate_model(model, test_features, test_labels):\n",
    "    predictions = model.predict(test_features)\n",
    "    accuracy = metrics.accuracy_score(test_labels, predictions)\n",
    "    print('Model Performance')\n",
    "    print('Accuracy = {:0.2f}%.'.format(100*accuracy))\n",
    "    \n",
    "    return accuracy\n",
    "base_model = RandomForestClassifier(n_estimators = 10, random_state = 42)\n",
    "base_model.fit(train_features, train_labels)\n",
    "base_accuracy = evaluate_model(base_model, test_features, test_labels)"
   ]
  },
  {
   "cell_type": "code",
   "execution_count": 208,
   "id": "424e4b4b",
   "metadata": {},
   "outputs": [
    {
     "name": "stdout",
     "output_type": "stream",
     "text": [
      "Model Performance\n",
      "Accuracy = 83.22%.\n"
     ]
    }
   ],
   "source": [
    "best_random = rf_random.best_estimator_\n",
    "random_accuracy = evaluate_model(best_random, test_features, test_labels)"
   ]
  },
  {
   "cell_type": "code",
   "execution_count": 209,
   "id": "b74d5379",
   "metadata": {},
   "outputs": [],
   "source": [
    "def model_improvement(new_accuracy, base_accuracy):\n",
    "    return 100 * (new_accuracy - base_accuracy) / base_accuracy"
   ]
  },
  {
   "cell_type": "code",
   "execution_count": 210,
   "id": "f1d2b6ac",
   "metadata": {},
   "outputs": [
    {
     "name": "stdout",
     "output_type": "stream",
     "text": [
      "Improvement of 40.80%.\n"
     ]
    }
   ],
   "source": [
    "print('Improvement of {:0.2f}%.'.format(model_improvement(random_accuracy,base_accuracy)))"
   ]
  },
  {
   "cell_type": "markdown",
   "id": "b82948ca",
   "metadata": {},
   "source": [
    "We improved our model accuracy by around 40% using a random grid search! To do this more thoroughly, I would implement more iterations of the random grid search ie. n_iter = 100 or I would perform a GridSearchCV for a thorough and comprehensive search through the hyper-parameter space. This would be massively computationally expensive though, given the size of the dataset. "
   ]
  },
  {
   "cell_type": "markdown",
   "id": "6e792e82",
   "metadata": {},
   "source": [
    "### Identifying and visualizing important features"
   ]
  },
  {
   "cell_type": "code",
   "execution_count": 211,
   "id": "91fa376b",
   "metadata": {},
   "outputs": [
    {
     "data": {
      "text/plain": [
       "LONGITUDE        0.343221\n",
       "LATITUDE         0.255074\n",
       "DISCOVERY_DOY    0.207330\n",
       "FIRE_YEAR        0.102790\n",
       "FIRE_SIZE        0.091585\n",
       "dtype: float64"
      ]
     },
     "execution_count": 211,
     "metadata": {},
     "output_type": "execute_result"
    }
   ],
   "source": [
    "feature_imp = pd.Series(best_random.feature_importances_,index=features).sort_values(ascending=False)\n",
    "feature_imp"
   ]
  },
  {
   "cell_type": "code",
   "execution_count": 212,
   "id": "0a641738",
   "metadata": {},
   "outputs": [
    {
     "data": {
      "image/png": "[encoded data removed]",
      "text/plain": [
       "<Figure size 432x288 with 1 Axes>"
      ]
     },
     "metadata": {
      "needs_background": "light"
     },
     "output_type": "display_data"
    }
   ],
   "source": [
    "# Creating a bar plot\n",
    "plt.barh(feature_imp.index, feature_imp)\n",
    "# Add labels to your graph\n",
    "plt.xlabel('Feature Importance Score')\n",
    "plt.ylabel('Features')\n",
    "plt.show()"
   ]
  },
  {
   "cell_type": "markdown",
   "id": "80ad3c63",
   "metadata": {},
   "source": [
    "If we remove the least important features in the model: fire size and fire year, can we improve the accuracy of the model? "
   ]
  },
  {
   "cell_type": "markdown",
   "id": "606ec9c0",
   "metadata": {},
   "source": [
    "### Removing less important features from the best random model"
   ]
  },
  {
   "cell_type": "code",
   "execution_count": 213,
   "id": "7b9b2019",
   "metadata": {},
   "outputs": [],
   "source": [
    "# Remove fire size and fire year from the features\n",
    "features_min_df = features_pd_df.drop(['FIRE_SIZE','FIRE_YEAR'], axis = 1)\n",
    "\n",
    "# Saving feature names for later use\n",
    "feature_list_min = list(features_min_df.columns)\n",
    "\n",
    "# Convert to numpy array\n",
    "features_min_df = np.array(features_min_df)"
   ]
  },
  {
   "cell_type": "code",
   "execution_count": 214,
   "id": "d70339d2",
   "metadata": {},
   "outputs": [],
   "source": [
    "# Split the data into training and testing sets\n",
    "train_features_min, test_features_min, train_labels_min, test_labels_min = train_test_split(features_min_df, labels, test_size = 0.4, random_state = 42)\n"
   ]
  },
  {
   "cell_type": "code",
   "execution_count": 215,
   "id": "2bc81c21",
   "metadata": {},
   "outputs": [],
   "source": [
    "# Instantiate model \n",
    "rf_min = RandomForestClassifier(n_estimators= 500, min_samples_split = 5, min_samples_leaf = 1, max_depth = 60, bootstrap = True, random_state = 42)\n",
    "\n",
    "# Train the model on training data\n",
    "rf_min.fit(train_features_min, train_labels_min);\n"
   ]
  },
  {
   "cell_type": "code",
   "execution_count": 216,
   "id": "e51e4b87",
   "metadata": {},
   "outputs": [
    {
     "name": "stdout",
     "output_type": "stream",
     "text": [
      "ACCURACY OF THE MODEL:  0.5875839740995549\n"
     ]
    }
   ],
   "source": [
    "# Use the forest's predict method on the test data\n",
    "predictions_min = rf_min.predict(test_features_min)\n",
    " \n",
    "# using metrics module for accuracy calculation\n",
    "print(\"ACCURACY OF THE MODEL: \", metrics.accuracy_score(test_labels_min, predictions_min))"
   ]
  },
  {
   "cell_type": "markdown",
   "id": "f0993c7c",
   "metadata": {},
   "source": [
    "The model has gotten worse so we can conclude that the fire size and fire year features are important. "
   ]
  },
  {
   "cell_type": "markdown",
   "id": "7643b55d",
   "metadata": {},
   "source": [
    "### Outlook"
   ]
  },
  {
   "cell_type": "markdown",
   "id": "f9f1b13d",
   "metadata": {},
   "source": [
    "In conclusion, I have developed a model that evaluates location, fire size, and the date to classify fires according to their cause. The model I have developed is ~83% accurate, which I am satisfied with considering the variability in the dataset. Next steps for the project would be to perform a more thorough and comprehensive tuning of the hyperparameters, maybe via a GridSearch instead of a RandomSearch through the hyper-parameter space. With this work, I have made significant progress towards the stated goal of being able to classify wildfires based on their cause. This work could be taken as a step towards the more challenging goal of assessing wildfire risk."
   ]
  },
  {
   "cell_type": "markdown",
   "id": "01ea72d2",
   "metadata": {},
   "source": [
    "# Unit Testing Suite"
   ]
  },
  {
   "cell_type": "markdown",
   "id": "a4f08b8b",
   "metadata": {},
   "source": [
    "Note: I tried to make a unit testing suite in a separate notebook/python file to the main code base. Unfortunately, I couldn't figure out a way to unit test the main code base without re-running the entire file which would re-run the hyperparameter tuning section and take many hours. Instead, I have decided to include the unit testing suite at the bottom of the main code-base to save some time. I understand the advantage of having a separate testing suite, however, and in a more official project setting, I would do that instead."
   ]
  },
  {
   "cell_type": "code",
   "execution_count": 85,
   "id": "b4a9a9fe",
   "metadata": {},
   "outputs": [],
   "source": [
    "import unittest"
   ]
  },
  {
   "cell_type": "code",
   "execution_count": 197,
   "id": "01826172",
   "metadata": {},
   "outputs": [
    {
     "name": "stderr",
     "output_type": "stream",
     "text": [
      "test_binary_probs (__main__.TestNotebook) ... ok\n",
      "test_colMins (__main__.TestNotebook) ... ok\n",
      "test_cross_entropy (__main__.TestNotebook) ... ok\n",
      "test_dataSplit (__main__.TestNotebook) ... ok\n",
      "test_dataSplitRatioEdge (__main__.TestNotebook) ... ok\n",
      "test_featureImp (__main__.TestNotebook) ... ok\n",
      "test_featuresDF (__main__.TestNotebook) ... ok\n",
      "test_metricAccuracy (__main__.TestNotebook) ... ok\n",
      "test_model_improvement (__main__.TestNotebook) ... ok\n",
      "test_normalize_col (__main__.TestNotebook) ... ok\n",
      "test_randomStatePreds (__main__.TestNotebook) ... ok\n",
      "test_sigmoid (__main__.TestNotebook) ... ok\n",
      "\n",
      "----------------------------------------------------------------------\n",
      "Ran 12 tests in 6.242s\n",
      "\n",
      "OK\n"
     ]
    },
    {
     "data": {
      "text/plain": [
       "<unittest.main.TestProgram at 0x17bc5f850>"
      ]
     },
     "execution_count": 197,
     "metadata": {},
     "output_type": "execute_result"
    }
   ],
   "source": [
    "class TestNotebook(unittest.TestCase):\n",
    "        \n",
    "    def test_normalize_col(self):\n",
    "        x_test = np.linspace(0,5,6)\n",
    "        self.assertEqual(normalize_col(x_test).all(),np.linspace(0,1,6).all())\n",
    "        \n",
    "    def test_colMins(self):\n",
    "        for col_name in ['FIRE_YEAR', 'DISCOVERY_DOY', 'FIRE_SIZE', 'LATITUDE','LONGITUDE']:\n",
    "            self.assertEqual(rel_df[col_name].min(),0)\n",
    "            self.assertEqual(rel_df[col_name].max(),1)\n",
    "        \n",
    "    \n",
    "    def test_dataSplit(self):\n",
    "        ratioToTest = 0.2\n",
    "        rel_train, rel_test = data_split(rel_df,ratioToTest)\n",
    "        dataRatio = rel_test.shape[0]/(rel_test.shape[0] + rel_train.shape[0])\n",
    "        self.assertAlmostEqual(dataRatio, ratioToTest,2)\n",
    "        \n",
    "    def test_dataSplitRatioEdge(self):\n",
    "        ratioToTest = 0\n",
    "        rel_train, rel_test = data_split(rel_df,ratioToTest)\n",
    "        dataRatio = rel_test.shape[0]/(rel_test.shape[0] + rel_train.shape[0])\n",
    "        self.assertAlmostEqual(dataRatio, ratioToTest,2)\n",
    "        \n",
    "    def test_cross_entropy(self):\n",
    "        x_test = np.array([[0,1],[1,1]])\n",
    "        y_test = np.array([0,1])\n",
    "        w_test = np.array([0.2,0.4])\n",
    "        self.assertAlmostEqual(cross_entropy(x_test, w_test, y_test), 1.35,2)\n",
    "        \n",
    "    def test_sigmoid(self):\n",
    "        sToTest = 0\n",
    "        outputOfFunc = sigmoid(sToTest)\n",
    "        self.assertEqual(outputOfFunc,0.5)\n",
    "        \n",
    "    def test_binary_probs(self):\n",
    "        false_pos = np.sum(~rel_test[rel_test['p_lightning'] > .5]['cause_lightning']) / len(rel_test) \n",
    "        false_neg = np.sum(rel_test[rel_test['p_lightning'] < 0.5]['cause_lightning']) / len(rel_test)  \n",
    "        true_pos = np.sum(rel_test[rel_test['p_lightning'] > .5]['cause_lightning']) / len(rel_test)\n",
    "        true_neg = np.sum(~rel_test[rel_test['p_lightning'] < 0.5]['cause_lightning']) / len(rel_test) \n",
    "        sumProbs = false_pos + false_neg + true_pos + true_neg\n",
    "        self.assertAlmostEqual(sumProbs,1,5)\n",
    "        \n",
    "    def test_featuresDF(self):\n",
    "        for col_name in ['FIRE_YEAR', 'DISCOVERY_DOY', 'FIRE_SIZE', 'LATITUDE','LONGITUDE']:\n",
    "            self.assertEqual(features_df[col_name].min(),0)\n",
    "            self.assertEqual(features_df[col_name].max(),1)\n",
    "            \n",
    "    def test_featureImp(self):\n",
    "        self.assertEqual(sum(feature_imp),1)\n",
    "        \n",
    "    def test_randomStatePreds(self):\n",
    "        rf1 = RandomForestClassifier(n_estimators = 1,random_state = 42)\n",
    "        rf1.fit(train_features, train_labels);\n",
    "        predictions1 = rf1.predict(test_features)\n",
    "        rf2 = RandomForestClassifier(n_estimators = 1, random_state = 42)\n",
    "        rf2.fit(train_features,train_labels);\n",
    "        predictions2 = rf2.predict(test_features)\n",
    "        self.assertEqual(predictions1.all(),predictions2.all())\n",
    "        \n",
    "    def test_metricAccuracy(self):\n",
    "        sample_labels = np.ones((1,10))\n",
    "        sample_labels_zero = np.zeros((1,10))\n",
    "        test_Acc = metrics.accuracy_score(sample_labels, sample_labels)\n",
    "        test_notAcc = metrics.accuracy_score(sample_labels,sample_labels_zero)\n",
    "        self.assertEqual(test_Acc,1.0)\n",
    "        self.assertEqual(test_notAcc,0.0)\n",
    "        \n",
    "    def test_model_improvement(self):\n",
    "        self.assertEqual(model_improvement(0.7,0.7),0.0)\n",
    "        self.assertEqual(model_improvement(1.0,0.5),100.0)\n",
    "\n",
    "        \n",
    "\n",
    "unittest.main(argv=[''], verbosity=2, exit=False)"
   ]
  },
  {
   "cell_type": "code",
   "execution_count": null,
   "id": "00e91733",
   "metadata": {},
   "outputs": [],
   "source": []
  }
 ],
 "metadata": {
  "kernelspec": {
   "display_name": "Python 3 (ipykernel)",
   "language": "python",
   "name": "python3"
  },
  "language_info": {
   "codemirror_mode": {
    "name": "ipython",
    "version": 3
   },
   "file_extension": ".py",
   "mimetype": "text/x-python",
   "name": "python",
   "nbconvert_exporter": "python",
   "pygments_lexer": "ipython3",
   "version": "3.9.9"
  }
 },
 "nbformat": 4,
 "nbformat_minor": 5
}
