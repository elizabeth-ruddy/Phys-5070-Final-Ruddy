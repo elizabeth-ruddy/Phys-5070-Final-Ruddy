{
 "cells": [
  {
   "cell_type": "code",
   "execution_count": 1,
   "id": "61d9a97a",
   "metadata": {},
   "outputs": [],
   "source": [
    "## Common import cell!\n",
    "\n",
    "%matplotlib inline\n",
    "\n",
    "import numpy as np\n",
    "import pandas as pd\n",
    "import matplotlib.pyplot as plt\n",
    "import sklearn.cluster\n",
    "import sklearn.svm\n",
    "import sqlite3\n",
    "\n",
    "font = {'size'   : 18}\n",
    "\n",
    "plt.matplotlib.rc('font', **font)"
   ]
  },
  {
   "cell_type": "markdown",
   "id": "7c8a40a4",
   "metadata": {},
   "source": [
    "# Machine Learning: Classification"
   ]
  },
  {
   "cell_type": "markdown",
   "id": "6ed8dbce",
   "metadata": {},
   "source": [
    "# 1. Data preparation"
   ]
  },
  {
   "cell_type": "markdown",
   "id": "1c9dcf9d",
   "metadata": {},
   "source": [
    "From preliminary data analysis, I have identified several factors which may be correlated with wildfire risk, and therefore, may be useful in characterizing the cause of a given wildfire. These features are: discovery day, fire year, fire size, latitude, and longitude. We start with a simple binary of classifying whether a given fire was caused by lightning or not (statistical cause code 1.0). "
   ]
  },
  {
   "cell_type": "code",
   "execution_count": 2,
   "id": "cb43908e",
   "metadata": {},
   "outputs": [
    {
     "data": {
      "text/html": [
       "<div>\n",
       "<style scoped>\n",
       "    .dataframe tbody tr th:only-of-type {\n",
       "        vertical-align: middle;\n",
       "    }\n",
       "\n",
       "    .dataframe tbody tr th {\n",
       "        vertical-align: top;\n",
       "    }\n",
       "\n",
       "    .dataframe thead th {\n",
       "        text-align: right;\n",
       "    }\n",
       "</style>\n",
       "<table border=\"1\" class=\"dataframe\">\n",
       "  <thead>\n",
       "    <tr style=\"text-align: right;\">\n",
       "      <th></th>\n",
       "      <th>STAT_CAUSE_CODE</th>\n",
       "      <th>STAT_CAUSE_DESCR</th>\n",
       "    </tr>\n",
       "  </thead>\n",
       "  <tbody>\n",
       "    <tr>\n",
       "      <th>1</th>\n",
       "      <td>1.0</td>\n",
       "      <td>Lightning</td>\n",
       "    </tr>\n",
       "    <tr>\n",
       "      <th>2</th>\n",
       "      <td>5.0</td>\n",
       "      <td>Debris Burning</td>\n",
       "    </tr>\n",
       "    <tr>\n",
       "      <th>3</th>\n",
       "      <td>1.0</td>\n",
       "      <td>Lightning</td>\n",
       "    </tr>\n",
       "    <tr>\n",
       "      <th>4</th>\n",
       "      <td>1.0</td>\n",
       "      <td>Lightning</td>\n",
       "    </tr>\n",
       "    <tr>\n",
       "      <th>5</th>\n",
       "      <td>1.0</td>\n",
       "      <td>Lightning</td>\n",
       "    </tr>\n",
       "    <tr>\n",
       "      <th>6</th>\n",
       "      <td>1.0</td>\n",
       "      <td>Lightning</td>\n",
       "    </tr>\n",
       "    <tr>\n",
       "      <th>7</th>\n",
       "      <td>5.0</td>\n",
       "      <td>Debris Burning</td>\n",
       "    </tr>\n",
       "    <tr>\n",
       "      <th>8</th>\n",
       "      <td>5.0</td>\n",
       "      <td>Debris Burning</td>\n",
       "    </tr>\n",
       "    <tr>\n",
       "      <th>9</th>\n",
       "      <td>1.0</td>\n",
       "      <td>Lightning</td>\n",
       "    </tr>\n",
       "    <tr>\n",
       "      <th>10</th>\n",
       "      <td>1.0</td>\n",
       "      <td>Lightning</td>\n",
       "    </tr>\n",
       "    <tr>\n",
       "      <th>11</th>\n",
       "      <td>1.0</td>\n",
       "      <td>Lightning</td>\n",
       "    </tr>\n",
       "    <tr>\n",
       "      <th>12</th>\n",
       "      <td>9.0</td>\n",
       "      <td>Miscellaneous</td>\n",
       "    </tr>\n",
       "    <tr>\n",
       "      <th>13</th>\n",
       "      <td>4.0</td>\n",
       "      <td>Campfire</td>\n",
       "    </tr>\n",
       "    <tr>\n",
       "      <th>14</th>\n",
       "      <td>1.0</td>\n",
       "      <td>Lightning</td>\n",
       "    </tr>\n",
       "    <tr>\n",
       "      <th>15</th>\n",
       "      <td>1.0</td>\n",
       "      <td>Lightning</td>\n",
       "    </tr>\n",
       "    <tr>\n",
       "      <th>16</th>\n",
       "      <td>2.0</td>\n",
       "      <td>Equipment Use</td>\n",
       "    </tr>\n",
       "    <tr>\n",
       "      <th>17</th>\n",
       "      <td>2.0</td>\n",
       "      <td>Equipment Use</td>\n",
       "    </tr>\n",
       "    <tr>\n",
       "      <th>18</th>\n",
       "      <td>5.0</td>\n",
       "      <td>Debris Burning</td>\n",
       "    </tr>\n",
       "    <tr>\n",
       "      <th>19</th>\n",
       "      <td>1.0</td>\n",
       "      <td>Lightning</td>\n",
       "    </tr>\n",
       "  </tbody>\n",
       "</table>\n",
       "</div>"
      ],
      "text/plain": [
       "    STAT_CAUSE_CODE STAT_CAUSE_DESCR\n",
       "1               1.0        Lightning\n",
       "2               5.0   Debris Burning\n",
       "3               1.0        Lightning\n",
       "4               1.0        Lightning\n",
       "5               1.0        Lightning\n",
       "6               1.0        Lightning\n",
       "7               5.0   Debris Burning\n",
       "8               5.0   Debris Burning\n",
       "9               1.0        Lightning\n",
       "10              1.0        Lightning\n",
       "11              1.0        Lightning\n",
       "12              9.0    Miscellaneous\n",
       "13              4.0         Campfire\n",
       "14              1.0        Lightning\n",
       "15              1.0        Lightning\n",
       "16              2.0    Equipment Use\n",
       "17              2.0    Equipment Use\n",
       "18              5.0   Debris Burning\n",
       "19              1.0        Lightning"
      ]
     },
     "execution_count": 2,
     "metadata": {},
     "output_type": "execute_result"
    }
   ],
   "source": [
    "conn = sqlite3.connect('FPA_FOD_20170508.sqlite')\n",
    "cause_df = pd.read_sql('SELECT STAT_CAUSE_CODE, STAT_CAUSE_DESCR from fires',conn)\n",
    "cause_df[1:20]"
   ]
  },
  {
   "cell_type": "code",
   "execution_count": 3,
   "id": "b455e2e8",
   "metadata": {},
   "outputs": [],
   "source": [
    "rel_df = pd.read_sql('SELECT FIRE_YEAR, DISCOVERY_DOY, DISCOVERY_TIME, STAT_CAUSE_CODE, STAT_CAUSE_DESCR, FIRE_SIZE, FIRE_SIZE_CLASS, LATITUDE, LONGITUDE FROM fires',conn)\n",
    "\n"
   ]
  },
  {
   "cell_type": "code",
   "execution_count": 4,
   "id": "b314f529",
   "metadata": {},
   "outputs": [
    {
     "data": {
      "text/html": [
       "<div>\n",
       "<style scoped>\n",
       "    .dataframe tbody tr th:only-of-type {\n",
       "        vertical-align: middle;\n",
       "    }\n",
       "\n",
       "    .dataframe tbody tr th {\n",
       "        vertical-align: top;\n",
       "    }\n",
       "\n",
       "    .dataframe thead th {\n",
       "        text-align: right;\n",
       "    }\n",
       "</style>\n",
       "<table border=\"1\" class=\"dataframe\">\n",
       "  <thead>\n",
       "    <tr style=\"text-align: right;\">\n",
       "      <th></th>\n",
       "      <th>FIRE_YEAR</th>\n",
       "      <th>DISCOVERY_DOY</th>\n",
       "      <th>DISCOVERY_TIME</th>\n",
       "      <th>STAT_CAUSE_CODE</th>\n",
       "      <th>STAT_CAUSE_DESCR</th>\n",
       "      <th>FIRE_SIZE</th>\n",
       "      <th>FIRE_SIZE_CLASS</th>\n",
       "      <th>LATITUDE</th>\n",
       "      <th>LONGITUDE</th>\n",
       "      <th>cause_lightning</th>\n",
       "    </tr>\n",
       "  </thead>\n",
       "  <tbody>\n",
       "    <tr>\n",
       "      <th>0</th>\n",
       "      <td>2005</td>\n",
       "      <td>33</td>\n",
       "      <td>1300</td>\n",
       "      <td>9.0</td>\n",
       "      <td>Miscellaneous</td>\n",
       "      <td>0.10</td>\n",
       "      <td>A</td>\n",
       "      <td>40.036944</td>\n",
       "      <td>-121.005833</td>\n",
       "      <td>False</td>\n",
       "    </tr>\n",
       "    <tr>\n",
       "      <th>1</th>\n",
       "      <td>2004</td>\n",
       "      <td>133</td>\n",
       "      <td>0845</td>\n",
       "      <td>1.0</td>\n",
       "      <td>Lightning</td>\n",
       "      <td>0.25</td>\n",
       "      <td>A</td>\n",
       "      <td>38.933056</td>\n",
       "      <td>-120.404444</td>\n",
       "      <td>True</td>\n",
       "    </tr>\n",
       "    <tr>\n",
       "      <th>2</th>\n",
       "      <td>2004</td>\n",
       "      <td>152</td>\n",
       "      <td>1921</td>\n",
       "      <td>5.0</td>\n",
       "      <td>Debris Burning</td>\n",
       "      <td>0.10</td>\n",
       "      <td>A</td>\n",
       "      <td>38.984167</td>\n",
       "      <td>-120.735556</td>\n",
       "      <td>False</td>\n",
       "    </tr>\n",
       "    <tr>\n",
       "      <th>3</th>\n",
       "      <td>2004</td>\n",
       "      <td>180</td>\n",
       "      <td>1600</td>\n",
       "      <td>1.0</td>\n",
       "      <td>Lightning</td>\n",
       "      <td>0.10</td>\n",
       "      <td>A</td>\n",
       "      <td>38.559167</td>\n",
       "      <td>-119.913333</td>\n",
       "      <td>True</td>\n",
       "    </tr>\n",
       "    <tr>\n",
       "      <th>4</th>\n",
       "      <td>2004</td>\n",
       "      <td>180</td>\n",
       "      <td>1600</td>\n",
       "      <td>1.0</td>\n",
       "      <td>Lightning</td>\n",
       "      <td>0.10</td>\n",
       "      <td>A</td>\n",
       "      <td>38.559167</td>\n",
       "      <td>-119.933056</td>\n",
       "      <td>True</td>\n",
       "    </tr>\n",
       "    <tr>\n",
       "      <th>...</th>\n",
       "      <td>...</td>\n",
       "      <td>...</td>\n",
       "      <td>...</td>\n",
       "      <td>...</td>\n",
       "      <td>...</td>\n",
       "      <td>...</td>\n",
       "      <td>...</td>\n",
       "      <td>...</td>\n",
       "      <td>...</td>\n",
       "      <td>...</td>\n",
       "    </tr>\n",
       "    <tr>\n",
       "      <th>1880460</th>\n",
       "      <td>2015</td>\n",
       "      <td>269</td>\n",
       "      <td>1726</td>\n",
       "      <td>13.0</td>\n",
       "      <td>Missing/Undefined</td>\n",
       "      <td>0.01</td>\n",
       "      <td>A</td>\n",
       "      <td>40.481637</td>\n",
       "      <td>-122.389375</td>\n",
       "      <td>False</td>\n",
       "    </tr>\n",
       "    <tr>\n",
       "      <th>1880461</th>\n",
       "      <td>2015</td>\n",
       "      <td>278</td>\n",
       "      <td>0126</td>\n",
       "      <td>9.0</td>\n",
       "      <td>Miscellaneous</td>\n",
       "      <td>0.20</td>\n",
       "      <td>A</td>\n",
       "      <td>37.617619</td>\n",
       "      <td>-120.938570</td>\n",
       "      <td>False</td>\n",
       "    </tr>\n",
       "    <tr>\n",
       "      <th>1880462</th>\n",
       "      <td>2015</td>\n",
       "      <td>122</td>\n",
       "      <td>2052</td>\n",
       "      <td>13.0</td>\n",
       "      <td>Missing/Undefined</td>\n",
       "      <td>0.10</td>\n",
       "      <td>A</td>\n",
       "      <td>37.617619</td>\n",
       "      <td>-120.938570</td>\n",
       "      <td>False</td>\n",
       "    </tr>\n",
       "    <tr>\n",
       "      <th>1880463</th>\n",
       "      <td>2015</td>\n",
       "      <td>287</td>\n",
       "      <td>2309</td>\n",
       "      <td>13.0</td>\n",
       "      <td>Missing/Undefined</td>\n",
       "      <td>2.00</td>\n",
       "      <td>B</td>\n",
       "      <td>37.672235</td>\n",
       "      <td>-120.898356</td>\n",
       "      <td>False</td>\n",
       "    </tr>\n",
       "    <tr>\n",
       "      <th>1880464</th>\n",
       "      <td>2015</td>\n",
       "      <td>73</td>\n",
       "      <td>2128</td>\n",
       "      <td>9.0</td>\n",
       "      <td>Miscellaneous</td>\n",
       "      <td>0.10</td>\n",
       "      <td>A</td>\n",
       "      <td>34.263217</td>\n",
       "      <td>-116.830950</td>\n",
       "      <td>False</td>\n",
       "    </tr>\n",
       "  </tbody>\n",
       "</table>\n",
       "<p>1880465 rows × 10 columns</p>\n",
       "</div>"
      ],
      "text/plain": [
       "         FIRE_YEAR  DISCOVERY_DOY DISCOVERY_TIME  STAT_CAUSE_CODE  \\\n",
       "0             2005             33           1300              9.0   \n",
       "1             2004            133           0845              1.0   \n",
       "2             2004            152           1921              5.0   \n",
       "3             2004            180           1600              1.0   \n",
       "4             2004            180           1600              1.0   \n",
       "...            ...            ...            ...              ...   \n",
       "1880460       2015            269           1726             13.0   \n",
       "1880461       2015            278           0126              9.0   \n",
       "1880462       2015            122           2052             13.0   \n",
       "1880463       2015            287           2309             13.0   \n",
       "1880464       2015             73           2128              9.0   \n",
       "\n",
       "          STAT_CAUSE_DESCR  FIRE_SIZE FIRE_SIZE_CLASS   LATITUDE   LONGITUDE  \\\n",
       "0            Miscellaneous       0.10               A  40.036944 -121.005833   \n",
       "1                Lightning       0.25               A  38.933056 -120.404444   \n",
       "2           Debris Burning       0.10               A  38.984167 -120.735556   \n",
       "3                Lightning       0.10               A  38.559167 -119.913333   \n",
       "4                Lightning       0.10               A  38.559167 -119.933056   \n",
       "...                    ...        ...             ...        ...         ...   \n",
       "1880460  Missing/Undefined       0.01               A  40.481637 -122.389375   \n",
       "1880461      Miscellaneous       0.20               A  37.617619 -120.938570   \n",
       "1880462  Missing/Undefined       0.10               A  37.617619 -120.938570   \n",
       "1880463  Missing/Undefined       2.00               B  37.672235 -120.898356   \n",
       "1880464      Miscellaneous       0.10               A  34.263217 -116.830950   \n",
       "\n",
       "         cause_lightning  \n",
       "0                  False  \n",
       "1                   True  \n",
       "2                  False  \n",
       "3                   True  \n",
       "4                   True  \n",
       "...                  ...  \n",
       "1880460            False  \n",
       "1880461            False  \n",
       "1880462            False  \n",
       "1880463            False  \n",
       "1880464            False  \n",
       "\n",
       "[1880465 rows x 10 columns]"
      ]
     },
     "execution_count": 4,
     "metadata": {},
     "output_type": "execute_result"
    }
   ],
   "source": [
    "rel_df['cause_lightning'] = rel_df.STAT_CAUSE_CODE.isin([1.0])\n",
    "rel_df"
   ]
  },
  {
   "cell_type": "markdown",
   "id": "04f2dbfd",
   "metadata": {},
   "source": [
    "Before we can apply our machine learning algorithms on this dataset, we need to rescale each of the numerical feature columns so that the minimum value in each column is 0, and the maximum value is 1. We should also remove the rows where the cause is classified as Missing/Undefined or as Miscellaneous as these categories are not well defined and may throw off the model."
   ]
  },
  {
   "cell_type": "code",
   "execution_count": 5,
   "id": "79c5b69b",
   "metadata": {},
   "outputs": [
    {
     "data": {
      "text/html": [
       "<div>\n",
       "<style scoped>\n",
       "    .dataframe tbody tr th:only-of-type {\n",
       "        vertical-align: middle;\n",
       "    }\n",
       "\n",
       "    .dataframe tbody tr th {\n",
       "        vertical-align: top;\n",
       "    }\n",
       "\n",
       "    .dataframe thead th {\n",
       "        text-align: right;\n",
       "    }\n",
       "</style>\n",
       "<table border=\"1\" class=\"dataframe\">\n",
       "  <thead>\n",
       "    <tr style=\"text-align: right;\">\n",
       "      <th></th>\n",
       "      <th>FIRE_YEAR</th>\n",
       "      <th>DISCOVERY_DOY</th>\n",
       "      <th>DISCOVERY_TIME</th>\n",
       "      <th>STAT_CAUSE_CODE</th>\n",
       "      <th>STAT_CAUSE_DESCR</th>\n",
       "      <th>FIRE_SIZE</th>\n",
       "      <th>FIRE_SIZE_CLASS</th>\n",
       "      <th>LATITUDE</th>\n",
       "      <th>LONGITUDE</th>\n",
       "      <th>cause_lightning</th>\n",
       "    </tr>\n",
       "  </thead>\n",
       "  <tbody>\n",
       "    <tr>\n",
       "      <th>1</th>\n",
       "      <td>0.521739</td>\n",
       "      <td>0.361644</td>\n",
       "      <td>0845</td>\n",
       "      <td>1.0</td>\n",
       "      <td>Lightning</td>\n",
       "      <td>4.117507e-07</td>\n",
       "      <td>A</td>\n",
       "      <td>0.400646</td>\n",
       "      <td>0.514314</td>\n",
       "      <td>True</td>\n",
       "    </tr>\n",
       "    <tr>\n",
       "      <th>2</th>\n",
       "      <td>0.521739</td>\n",
       "      <td>0.413699</td>\n",
       "      <td>1921</td>\n",
       "      <td>5.0</td>\n",
       "      <td>Debris Burning</td>\n",
       "      <td>1.646113e-07</td>\n",
       "      <td>A</td>\n",
       "      <td>0.401622</td>\n",
       "      <td>0.511398</td>\n",
       "      <td>False</td>\n",
       "    </tr>\n",
       "    <tr>\n",
       "      <th>3</th>\n",
       "      <td>0.521739</td>\n",
       "      <td>0.490411</td>\n",
       "      <td>1600</td>\n",
       "      <td>1.0</td>\n",
       "      <td>Lightning</td>\n",
       "      <td>1.646113e-07</td>\n",
       "      <td>A</td>\n",
       "      <td>0.393509</td>\n",
       "      <td>0.518640</td>\n",
       "      <td>True</td>\n",
       "    </tr>\n",
       "    <tr>\n",
       "      <th>4</th>\n",
       "      <td>0.521739</td>\n",
       "      <td>0.490411</td>\n",
       "      <td>1600</td>\n",
       "      <td>1.0</td>\n",
       "      <td>Lightning</td>\n",
       "      <td>1.646113e-07</td>\n",
       "      <td>A</td>\n",
       "      <td>0.393509</td>\n",
       "      <td>0.518466</td>\n",
       "      <td>True</td>\n",
       "    </tr>\n",
       "    <tr>\n",
       "      <th>5</th>\n",
       "      <td>0.521739</td>\n",
       "      <td>0.495890</td>\n",
       "      <td>1800</td>\n",
       "      <td>1.0</td>\n",
       "      <td>Lightning</td>\n",
       "      <td>1.646113e-07</td>\n",
       "      <td>A</td>\n",
       "      <td>0.394962</td>\n",
       "      <td>0.516964</td>\n",
       "      <td>True</td>\n",
       "    </tr>\n",
       "    <tr>\n",
       "      <th>...</th>\n",
       "      <td>...</td>\n",
       "      <td>...</td>\n",
       "      <td>...</td>\n",
       "      <td>...</td>\n",
       "      <td>...</td>\n",
       "      <td>...</td>\n",
       "      <td>...</td>\n",
       "      <td>...</td>\n",
       "      <td>...</td>\n",
       "      <td>...</td>\n",
       "    </tr>\n",
       "    <tr>\n",
       "      <th>1880451</th>\n",
       "      <td>1.000000</td>\n",
       "      <td>0.427397</td>\n",
       "      <td>1208</td>\n",
       "      <td>2.0</td>\n",
       "      <td>Equipment Use</td>\n",
       "      <td>1.647447e-06</td>\n",
       "      <td>B</td>\n",
       "      <td>0.395132</td>\n",
       "      <td>0.510270</td>\n",
       "      <td>False</td>\n",
       "    </tr>\n",
       "    <tr>\n",
       "      <th>1880452</th>\n",
       "      <td>1.000000</td>\n",
       "      <td>0.282192</td>\n",
       "      <td>0827</td>\n",
       "      <td>5.0</td>\n",
       "      <td>Debris Burning</td>\n",
       "      <td>1.975632e-07</td>\n",
       "      <td>A</td>\n",
       "      <td>0.309592</td>\n",
       "      <td>0.529384</td>\n",
       "      <td>False</td>\n",
       "    </tr>\n",
       "    <tr>\n",
       "      <th>1880453</th>\n",
       "      <td>1.000000</td>\n",
       "      <td>0.512329</td>\n",
       "      <td>0723</td>\n",
       "      <td>8.0</td>\n",
       "      <td>Children</td>\n",
       "      <td>1.975632e-07</td>\n",
       "      <td>A</td>\n",
       "      <td>0.311789</td>\n",
       "      <td>0.530020</td>\n",
       "      <td>False</td>\n",
       "    </tr>\n",
       "    <tr>\n",
       "      <th>1880457</th>\n",
       "      <td>1.000000</td>\n",
       "      <td>0.745205</td>\n",
       "      <td>2357</td>\n",
       "      <td>7.0</td>\n",
       "      <td>Arson</td>\n",
       "      <td>1.647447e-06</td>\n",
       "      <td>B</td>\n",
       "      <td>0.432249</td>\n",
       "      <td>0.490842</td>\n",
       "      <td>False</td>\n",
       "    </tr>\n",
       "    <tr>\n",
       "      <th>1880458</th>\n",
       "      <td>1.000000</td>\n",
       "      <td>0.580822</td>\n",
       "      <td>1331</td>\n",
       "      <td>1.0</td>\n",
       "      <td>Lightning</td>\n",
       "      <td>6.590235e-06</td>\n",
       "      <td>B</td>\n",
       "      <td>0.425687</td>\n",
       "      <td>0.486663</td>\n",
       "      <td>True</td>\n",
       "    </tr>\n",
       "  </tbody>\n",
       "</table>\n",
       "<p>1389937 rows × 10 columns</p>\n",
       "</div>"
      ],
      "text/plain": [
       "         FIRE_YEAR  DISCOVERY_DOY DISCOVERY_TIME  STAT_CAUSE_CODE  \\\n",
       "1         0.521739       0.361644           0845              1.0   \n",
       "2         0.521739       0.413699           1921              5.0   \n",
       "3         0.521739       0.490411           1600              1.0   \n",
       "4         0.521739       0.490411           1600              1.0   \n",
       "5         0.521739       0.495890           1800              1.0   \n",
       "...            ...            ...            ...              ...   \n",
       "1880451   1.000000       0.427397           1208              2.0   \n",
       "1880452   1.000000       0.282192           0827              5.0   \n",
       "1880453   1.000000       0.512329           0723              8.0   \n",
       "1880457   1.000000       0.745205           2357              7.0   \n",
       "1880458   1.000000       0.580822           1331              1.0   \n",
       "\n",
       "        STAT_CAUSE_DESCR     FIRE_SIZE FIRE_SIZE_CLASS  LATITUDE  LONGITUDE  \\\n",
       "1              Lightning  4.117507e-07               A  0.400646   0.514314   \n",
       "2         Debris Burning  1.646113e-07               A  0.401622   0.511398   \n",
       "3              Lightning  1.646113e-07               A  0.393509   0.518640   \n",
       "4              Lightning  1.646113e-07               A  0.393509   0.518466   \n",
       "5              Lightning  1.646113e-07               A  0.394962   0.516964   \n",
       "...                  ...           ...             ...       ...        ...   \n",
       "1880451    Equipment Use  1.647447e-06               B  0.395132   0.510270   \n",
       "1880452   Debris Burning  1.975632e-07               A  0.309592   0.529384   \n",
       "1880453         Children  1.975632e-07               A  0.311789   0.530020   \n",
       "1880457            Arson  1.647447e-06               B  0.432249   0.490842   \n",
       "1880458        Lightning  6.590235e-06               B  0.425687   0.486663   \n",
       "\n",
       "         cause_lightning  \n",
       "1                   True  \n",
       "2                  False  \n",
       "3                   True  \n",
       "4                   True  \n",
       "5                   True  \n",
       "...                  ...  \n",
       "1880451            False  \n",
       "1880452            False  \n",
       "1880453            False  \n",
       "1880457            False  \n",
       "1880458             True  \n",
       "\n",
       "[1389937 rows x 10 columns]"
      ]
     },
     "execution_count": 5,
     "metadata": {},
     "output_type": "execute_result"
    }
   ],
   "source": [
    "features = ['FIRE_YEAR', 'DISCOVERY_DOY', 'FIRE_SIZE', 'LATITUDE','LONGITUDE']\n",
    "rel_df.drop(rel_df.index[rel_df['STAT_CAUSE_DESCR'] == 'Missing/Undefined'], inplace=True)\n",
    "rel_df.drop(rel_df.index[rel_df['STAT_CAUSE_DESCR'] == 'Miscellaneous'], inplace=True)\n",
    "\n",
    "for col_name in ['FIRE_YEAR', 'DISCOVERY_DOY', 'FIRE_SIZE', 'LATITUDE','LONGITUDE']:\n",
    "    cmin = rel_df[col_name].min()\n",
    "    cmax = rel_df[col_name].max()\n",
    "    \n",
    "    rel_df[col_name] = (rel_df[col_name] - cmin) / (cmax - cmin)\n",
    "    \n",
    "rel_df"
   ]
  },
  {
   "cell_type": "code",
   "execution_count": 6,
   "id": "d0ef2238",
   "metadata": {},
   "outputs": [],
   "source": [
    "import numpy.testing as npt\n",
    "\n",
    "for col_name in ['FIRE_YEAR', 'DISCOVERY_DOY', 'FIRE_SIZE', 'LATITUDE','LONGITUDE']:\n",
    "    npt.assert_allclose(rel_df[col_name].min(), 0)\n",
    "    npt.assert_allclose(rel_df[col_name].max(), 1)"
   ]
  },
  {
   "cell_type": "markdown",
   "id": "cec74dff",
   "metadata": {},
   "source": [
    "Next, we split our data into training and testing datasets. This can be done using Sklearn but I will implement it manually first."
   ]
  },
  {
   "cell_type": "code",
   "execution_count": 7,
   "id": "9a79db65",
   "metadata": {},
   "outputs": [],
   "source": [
    "import random\n",
    "nInds = rel_df.shape[0]\n",
    "inds = range(nInds)\n",
    "testInds = random.sample(inds,round((nInds-1)/2))\n",
    "mask=np.full(len(inds),True,dtype=bool)\n",
    "mask[testInds]=False\n",
    "rel_train = rel_df.loc[~mask,:]\n",
    "rel_test = rel_df.loc[mask,:]"
   ]
  },
  {
   "cell_type": "markdown",
   "id": "bd8599d8",
   "metadata": {},
   "source": [
    "# 2. Unsupervised learning"
   ]
  },
  {
   "cell_type": "markdown",
   "id": "9d7f7df7",
   "metadata": {},
   "source": [
    "To start this project, we follow what we did in the ML Classification tutorial from class. We'll start by using the K-means clustering algorithm to do some unsupervised learning and see what we get on this data."
   ]
  },
  {
   "cell_type": "code",
   "execution_count": 45,
   "id": "39032a1c",
   "metadata": {},
   "outputs": [
    {
     "name": "stdout",
     "output_type": "stream",
     "text": [
      "[0 0 0 ... 0 0 0]\n"
     ]
    }
   ],
   "source": [
    "kmeans = sklearn.cluster.KMeans(n_clusters=2, random_state=0).fit(rel_train[features])\n",
    "\n",
    "print(kmeans.labels_)"
   ]
  },
  {
   "cell_type": "code",
   "execution_count": 46,
   "id": "0245d4fb",
   "metadata": {},
   "outputs": [
    {
     "data": {
      "text/html": [
       "<div>\n",
       "<style scoped>\n",
       "    .dataframe tbody tr th:only-of-type {\n",
       "        vertical-align: middle;\n",
       "    }\n",
       "\n",
       "    .dataframe tbody tr th {\n",
       "        vertical-align: top;\n",
       "    }\n",
       "\n",
       "    .dataframe thead th {\n",
       "        text-align: right;\n",
       "    }\n",
       "</style>\n",
       "<table border=\"1\" class=\"dataframe\">\n",
       "  <thead>\n",
       "    <tr style=\"text-align: right;\">\n",
       "      <th></th>\n",
       "      <th>FIRE_YEAR</th>\n",
       "      <th>DISCOVERY_DOY</th>\n",
       "      <th>DISCOVERY_TIME</th>\n",
       "      <th>STAT_CAUSE_CODE</th>\n",
       "      <th>STAT_CAUSE_DESCR</th>\n",
       "      <th>FIRE_SIZE</th>\n",
       "      <th>FIRE_SIZE_CLASS</th>\n",
       "      <th>LATITUDE</th>\n",
       "      <th>LONGITUDE</th>\n",
       "      <th>cause_lightning</th>\n",
       "    </tr>\n",
       "  </thead>\n",
       "  <tbody>\n",
       "    <tr>\n",
       "      <th>6849</th>\n",
       "      <td>0.434783</td>\n",
       "      <td>0.528767</td>\n",
       "      <td>1943</td>\n",
       "      <td>1.0</td>\n",
       "      <td>Lightning</td>\n",
       "      <td>1.646113e-07</td>\n",
       "      <td>A</td>\n",
       "      <td>0.372177</td>\n",
       "      <td>0.525979</td>\n",
       "      <td>True</td>\n",
       "    </tr>\n",
       "    <tr>\n",
       "      <th>41841</th>\n",
       "      <td>0.478261</td>\n",
       "      <td>0.273973</td>\n",
       "      <td>1300</td>\n",
       "      <td>8.0</td>\n",
       "      <td>Children</td>\n",
       "      <td>1.646113e-07</td>\n",
       "      <td>A</td>\n",
       "      <td>0.561266</td>\n",
       "      <td>0.744970</td>\n",
       "      <td>False</td>\n",
       "    </tr>\n",
       "    <tr>\n",
       "      <th>41843</th>\n",
       "      <td>0.434783</td>\n",
       "      <td>0.630137</td>\n",
       "      <td>1400</td>\n",
       "      <td>1.0</td>\n",
       "      <td>Lightning</td>\n",
       "      <td>1.646113e-07</td>\n",
       "      <td>A</td>\n",
       "      <td>0.335250</td>\n",
       "      <td>0.593000</td>\n",
       "      <td>True</td>\n",
       "    </tr>\n",
       "    <tr>\n",
       "      <th>41844</th>\n",
       "      <td>0.434783</td>\n",
       "      <td>0.630137</td>\n",
       "      <td>1529</td>\n",
       "      <td>1.0</td>\n",
       "      <td>Lightning</td>\n",
       "      <td>1.646113e-07</td>\n",
       "      <td>A</td>\n",
       "      <td>0.333299</td>\n",
       "      <td>0.593093</td>\n",
       "      <td>True</td>\n",
       "    </tr>\n",
       "    <tr>\n",
       "      <th>41845</th>\n",
       "      <td>0.434783</td>\n",
       "      <td>0.635616</td>\n",
       "      <td>1210</td>\n",
       "      <td>1.0</td>\n",
       "      <td>Lightning</td>\n",
       "      <td>4.942639e-06</td>\n",
       "      <td>B</td>\n",
       "      <td>0.331188</td>\n",
       "      <td>0.593507</td>\n",
       "      <td>True</td>\n",
       "    </tr>\n",
       "    <tr>\n",
       "      <th>...</th>\n",
       "      <td>...</td>\n",
       "      <td>...</td>\n",
       "      <td>...</td>\n",
       "      <td>...</td>\n",
       "      <td>...</td>\n",
       "      <td>...</td>\n",
       "      <td>...</td>\n",
       "      <td>...</td>\n",
       "      <td>...</td>\n",
       "      <td>...</td>\n",
       "    </tr>\n",
       "    <tr>\n",
       "      <th>1453958</th>\n",
       "      <td>0.304348</td>\n",
       "      <td>0.997260</td>\n",
       "      <td>1410</td>\n",
       "      <td>5.0</td>\n",
       "      <td>Debris Burning</td>\n",
       "      <td>1.977100e-05</td>\n",
       "      <td>C</td>\n",
       "      <td>0.357437</td>\n",
       "      <td>0.762737</td>\n",
       "      <td>False</td>\n",
       "    </tr>\n",
       "    <tr>\n",
       "      <th>1721820</th>\n",
       "      <td>0.478261</td>\n",
       "      <td>0.465753</td>\n",
       "      <td>1600</td>\n",
       "      <td>1.0</td>\n",
       "      <td>Lightning</td>\n",
       "      <td>8.732257e-03</td>\n",
       "      <td>G</td>\n",
       "      <td>0.289648</td>\n",
       "      <td>0.625146</td>\n",
       "      <td>True</td>\n",
       "    </tr>\n",
       "    <tr>\n",
       "      <th>1860059</th>\n",
       "      <td>0.000000</td>\n",
       "      <td>0.389041</td>\n",
       "      <td>1030</td>\n",
       "      <td>4.0</td>\n",
       "      <td>Campfire</td>\n",
       "      <td>1.646113e-07</td>\n",
       "      <td>A</td>\n",
       "      <td>0.535708</td>\n",
       "      <td>0.500262</td>\n",
       "      <td>False</td>\n",
       "    </tr>\n",
       "    <tr>\n",
       "      <th>1860062</th>\n",
       "      <td>0.000000</td>\n",
       "      <td>0.410959</td>\n",
       "      <td>1730</td>\n",
       "      <td>4.0</td>\n",
       "      <td>Campfire</td>\n",
       "      <td>1.646113e-07</td>\n",
       "      <td>A</td>\n",
       "      <td>0.535676</td>\n",
       "      <td>0.500203</td>\n",
       "      <td>False</td>\n",
       "    </tr>\n",
       "    <tr>\n",
       "      <th>1860064</th>\n",
       "      <td>0.086957</td>\n",
       "      <td>0.594521</td>\n",
       "      <td>1601</td>\n",
       "      <td>4.0</td>\n",
       "      <td>Campfire</td>\n",
       "      <td>1.646113e-07</td>\n",
       "      <td>A</td>\n",
       "      <td>0.543980</td>\n",
       "      <td>0.502170</td>\n",
       "      <td>False</td>\n",
       "    </tr>\n",
       "  </tbody>\n",
       "</table>\n",
       "<p>356876 rows × 10 columns</p>\n",
       "</div>"
      ],
      "text/plain": [
       "         FIRE_YEAR  DISCOVERY_DOY DISCOVERY_TIME  STAT_CAUSE_CODE  \\\n",
       "6849      0.434783       0.528767           1943              1.0   \n",
       "41841     0.478261       0.273973           1300              8.0   \n",
       "41843     0.434783       0.630137           1400              1.0   \n",
       "41844     0.434783       0.630137           1529              1.0   \n",
       "41845     0.434783       0.635616           1210              1.0   \n",
       "...            ...            ...            ...              ...   \n",
       "1453958   0.304348       0.997260           1410              5.0   \n",
       "1721820   0.478261       0.465753           1600              1.0   \n",
       "1860059   0.000000       0.389041           1030              4.0   \n",
       "1860062   0.000000       0.410959           1730              4.0   \n",
       "1860064   0.086957       0.594521           1601              4.0   \n",
       "\n",
       "        STAT_CAUSE_DESCR     FIRE_SIZE FIRE_SIZE_CLASS  LATITUDE  LONGITUDE  \\\n",
       "6849           Lightning  1.646113e-07               A  0.372177   0.525979   \n",
       "41841           Children  1.646113e-07               A  0.561266   0.744970   \n",
       "41843          Lightning  1.646113e-07               A  0.335250   0.593000   \n",
       "41844          Lightning  1.646113e-07               A  0.333299   0.593093   \n",
       "41845          Lightning  4.942639e-06               B  0.331188   0.593507   \n",
       "...                  ...           ...             ...       ...        ...   \n",
       "1453958   Debris Burning  1.977100e-05               C  0.357437   0.762737   \n",
       "1721820        Lightning  8.732257e-03               G  0.289648   0.625146   \n",
       "1860059         Campfire  1.646113e-07               A  0.535708   0.500262   \n",
       "1860062         Campfire  1.646113e-07               A  0.535676   0.500203   \n",
       "1860064         Campfire  1.646113e-07               A  0.543980   0.502170   \n",
       "\n",
       "         cause_lightning  \n",
       "6849                True  \n",
       "41841              False  \n",
       "41843               True  \n",
       "41844               True  \n",
       "41845               True  \n",
       "...                  ...  \n",
       "1453958            False  \n",
       "1721820             True  \n",
       "1860059            False  \n",
       "1860062            False  \n",
       "1860064            False  \n",
       "\n",
       "[356876 rows x 10 columns]"
      ]
     },
     "execution_count": 46,
     "metadata": {},
     "output_type": "execute_result"
    }
   ],
   "source": [
    "rel_train.loc[np.asarray(kmeans.labels_, bool),:]\n"
   ]
  },
  {
   "cell_type": "code",
   "execution_count": 47,
   "id": "da2275da",
   "metadata": {},
   "outputs": [
    {
     "data": {
      "text/plain": [
       "Text(0, 0.5, 'Latitude')"
      ]
     },
     "execution_count": 47,
     "metadata": {},
     "output_type": "execute_result"
    },
    {
     "data": {
      "image/png": "[encoded data removed]",
      "text/plain": [
       "<Figure size 432x288 with 1 Axes>"
      ]
     },
     "metadata": {
      "needs_background": "light"
     },
     "output_type": "display_data"
    }
   ],
   "source": [
    "plt.scatter(rel_train['FIRE_SIZE'], rel_train['LATITUDE'], c=kmeans.labels_)\n",
    "plt.xlabel('Fire Size')\n",
    "plt.ylabel('Latitude')"
   ]
  },
  {
   "cell_type": "code",
   "execution_count": 48,
   "id": "7a816148",
   "metadata": {},
   "outputs": [
    {
     "name": "stdout",
     "output_type": "stream",
     "text": [
      "[0 0 0 ... 0 0 0]\n"
     ]
    },
    {
     "data": {
      "text/html": [
       "<div>\n",
       "<style scoped>\n",
       "    .dataframe tbody tr th:only-of-type {\n",
       "        vertical-align: middle;\n",
       "    }\n",
       "\n",
       "    .dataframe tbody tr th {\n",
       "        vertical-align: top;\n",
       "    }\n",
       "\n",
       "    .dataframe thead th {\n",
       "        text-align: right;\n",
       "    }\n",
       "</style>\n",
       "<table border=\"1\" class=\"dataframe\">\n",
       "  <thead>\n",
       "    <tr style=\"text-align: right;\">\n",
       "      <th></th>\n",
       "      <th>FIRE_YEAR</th>\n",
       "      <th>DISCOVERY_DOY</th>\n",
       "      <th>DISCOVERY_TIME</th>\n",
       "      <th>STAT_CAUSE_CODE</th>\n",
       "      <th>STAT_CAUSE_DESCR</th>\n",
       "      <th>FIRE_SIZE</th>\n",
       "      <th>FIRE_SIZE_CLASS</th>\n",
       "      <th>LATITUDE</th>\n",
       "      <th>LONGITUDE</th>\n",
       "      <th>cause_lightning</th>\n",
       "    </tr>\n",
       "  </thead>\n",
       "  <tbody>\n",
       "    <tr>\n",
       "      <th>41840</th>\n",
       "      <td>0.391304</td>\n",
       "      <td>0.742466</td>\n",
       "      <td>1400</td>\n",
       "      <td>4.0</td>\n",
       "      <td>Campfire</td>\n",
       "      <td>1.647447e-06</td>\n",
       "      <td>B</td>\n",
       "      <td>0.574586</td>\n",
       "      <td>0.777537</td>\n",
       "      <td>False</td>\n",
       "    </tr>\n",
       "    <tr>\n",
       "      <th>41852</th>\n",
       "      <td>0.434783</td>\n",
       "      <td>0.657534</td>\n",
       "      <td>0800</td>\n",
       "      <td>1.0</td>\n",
       "      <td>Lightning</td>\n",
       "      <td>2.059346e-06</td>\n",
       "      <td>B</td>\n",
       "      <td>0.325324</td>\n",
       "      <td>0.590466</td>\n",
       "      <td>True</td>\n",
       "    </tr>\n",
       "    <tr>\n",
       "      <th>41853</th>\n",
       "      <td>0.434783</td>\n",
       "      <td>0.657534</td>\n",
       "      <td>0800</td>\n",
       "      <td>1.0</td>\n",
       "      <td>Lightning</td>\n",
       "      <td>1.646113e-07</td>\n",
       "      <td>A</td>\n",
       "      <td>0.332355</td>\n",
       "      <td>0.593110</td>\n",
       "      <td>True</td>\n",
       "    </tr>\n",
       "    <tr>\n",
       "      <th>41857</th>\n",
       "      <td>0.434783</td>\n",
       "      <td>0.657534</td>\n",
       "      <td>0830</td>\n",
       "      <td>1.0</td>\n",
       "      <td>Lightning</td>\n",
       "      <td>1.646113e-07</td>\n",
       "      <td>A</td>\n",
       "      <td>0.329385</td>\n",
       "      <td>0.592560</td>\n",
       "      <td>True</td>\n",
       "    </tr>\n",
       "    <tr>\n",
       "      <th>41864</th>\n",
       "      <td>0.434783</td>\n",
       "      <td>0.657534</td>\n",
       "      <td>0800</td>\n",
       "      <td>1.0</td>\n",
       "      <td>Lightning</td>\n",
       "      <td>4.117507e-07</td>\n",
       "      <td>A</td>\n",
       "      <td>0.327731</td>\n",
       "      <td>0.590446</td>\n",
       "      <td>True</td>\n",
       "    </tr>\n",
       "    <tr>\n",
       "      <th>...</th>\n",
       "      <td>...</td>\n",
       "      <td>...</td>\n",
       "      <td>...</td>\n",
       "      <td>...</td>\n",
       "      <td>...</td>\n",
       "      <td>...</td>\n",
       "      <td>...</td>\n",
       "      <td>...</td>\n",
       "      <td>...</td>\n",
       "      <td>...</td>\n",
       "    </tr>\n",
       "    <tr>\n",
       "      <th>1453960</th>\n",
       "      <td>0.304348</td>\n",
       "      <td>0.997260</td>\n",
       "      <td>1630</td>\n",
       "      <td>7.0</td>\n",
       "      <td>Arson</td>\n",
       "      <td>1.977113e-04</td>\n",
       "      <td>D</td>\n",
       "      <td>0.382872</td>\n",
       "      <td>0.775016</td>\n",
       "      <td>False</td>\n",
       "    </tr>\n",
       "    <tr>\n",
       "      <th>1721873</th>\n",
       "      <td>0.434783</td>\n",
       "      <td>0.547945</td>\n",
       "      <td>None</td>\n",
       "      <td>1.0</td>\n",
       "      <td>Lightning</td>\n",
       "      <td>4.242889e-02</td>\n",
       "      <td>G</td>\n",
       "      <td>0.880114</td>\n",
       "      <td>0.241521</td>\n",
       "      <td>True</td>\n",
       "    </tr>\n",
       "    <tr>\n",
       "      <th>1860060</th>\n",
       "      <td>0.000000</td>\n",
       "      <td>0.498630</td>\n",
       "      <td>1500</td>\n",
       "      <td>4.0</td>\n",
       "      <td>Campfire</td>\n",
       "      <td>1.646113e-07</td>\n",
       "      <td>A</td>\n",
       "      <td>0.535549</td>\n",
       "      <td>0.500262</td>\n",
       "      <td>False</td>\n",
       "    </tr>\n",
       "    <tr>\n",
       "      <th>1860061</th>\n",
       "      <td>0.000000</td>\n",
       "      <td>0.221918</td>\n",
       "      <td>1600</td>\n",
       "      <td>4.0</td>\n",
       "      <td>Campfire</td>\n",
       "      <td>1.646113e-07</td>\n",
       "      <td>A</td>\n",
       "      <td>0.535708</td>\n",
       "      <td>0.500248</td>\n",
       "      <td>False</td>\n",
       "    </tr>\n",
       "    <tr>\n",
       "      <th>1860063</th>\n",
       "      <td>0.043478</td>\n",
       "      <td>0.635616</td>\n",
       "      <td>1500</td>\n",
       "      <td>1.0</td>\n",
       "      <td>Lightning</td>\n",
       "      <td>1.646113e-07</td>\n",
       "      <td>A</td>\n",
       "      <td>0.538062</td>\n",
       "      <td>0.505003</td>\n",
       "      <td>True</td>\n",
       "    </tr>\n",
       "  </tbody>\n",
       "</table>\n",
       "<p>355019 rows × 10 columns</p>\n",
       "</div>"
      ],
      "text/plain": [
       "         FIRE_YEAR  DISCOVERY_DOY DISCOVERY_TIME  STAT_CAUSE_CODE  \\\n",
       "41840     0.391304       0.742466           1400              4.0   \n",
       "41852     0.434783       0.657534           0800              1.0   \n",
       "41853     0.434783       0.657534           0800              1.0   \n",
       "41857     0.434783       0.657534           0830              1.0   \n",
       "41864     0.434783       0.657534           0800              1.0   \n",
       "...            ...            ...            ...              ...   \n",
       "1453960   0.304348       0.997260           1630              7.0   \n",
       "1721873   0.434783       0.547945           None              1.0   \n",
       "1860060   0.000000       0.498630           1500              4.0   \n",
       "1860061   0.000000       0.221918           1600              4.0   \n",
       "1860063   0.043478       0.635616           1500              1.0   \n",
       "\n",
       "        STAT_CAUSE_DESCR     FIRE_SIZE FIRE_SIZE_CLASS  LATITUDE  LONGITUDE  \\\n",
       "41840           Campfire  1.647447e-06               B  0.574586   0.777537   \n",
       "41852          Lightning  2.059346e-06               B  0.325324   0.590466   \n",
       "41853          Lightning  1.646113e-07               A  0.332355   0.593110   \n",
       "41857          Lightning  1.646113e-07               A  0.329385   0.592560   \n",
       "41864          Lightning  4.117507e-07               A  0.327731   0.590446   \n",
       "...                  ...           ...             ...       ...        ...   \n",
       "1453960            Arson  1.977113e-04               D  0.382872   0.775016   \n",
       "1721873        Lightning  4.242889e-02               G  0.880114   0.241521   \n",
       "1860060         Campfire  1.646113e-07               A  0.535549   0.500262   \n",
       "1860061         Campfire  1.646113e-07               A  0.535708   0.500248   \n",
       "1860063        Lightning  1.646113e-07               A  0.538062   0.505003   \n",
       "\n",
       "         cause_lightning  \n",
       "41840              False  \n",
       "41852               True  \n",
       "41853               True  \n",
       "41857               True  \n",
       "41864               True  \n",
       "...                  ...  \n",
       "1453960            False  \n",
       "1721873             True  \n",
       "1860060            False  \n",
       "1860061            False  \n",
       "1860063             True  \n",
       "\n",
       "[355019 rows x 10 columns]"
      ]
     },
     "execution_count": 48,
     "metadata": {},
     "output_type": "execute_result"
    }
   ],
   "source": [
    "pred_labels = kmeans.predict(rel_test[features].dropna())\n",
    "print(pred_labels)\n",
    "\n",
    "rel_test.loc[np.asarray(pred_labels, bool), :]"
   ]
  },
  {
   "cell_type": "code",
   "execution_count": 50,
   "id": "6d3ec7ad",
   "metadata": {},
   "outputs": [
    {
     "data": {
      "text/plain": [
       "Text(0, 0.5, 'Latitude')"
      ]
     },
     "execution_count": 50,
     "metadata": {},
     "output_type": "execute_result"
    },
    {
     "data": {
      "image/png": "[encoded data removed]",
      "text/plain": [
       "<Figure size 432x864 with 2 Axes>"
      ]
     },
     "metadata": {
      "needs_background": "light"
     },
     "output_type": "display_data"
    }
   ],
   "source": [
    "fig, axes = plt.subplots(2,1, figsize=(6,12))\n",
    "axes[0].scatter(rel_train['DISCOVERY_DOY'], rel_train['FIRE_SIZE'], c=rel_train['cause_lightning'])\n",
    "axes[0].set_xlabel('Discovery Day')\n",
    "axes[0].set_ylabel('Fire Size')\n",
    "axes[1].scatter(rel_train['LONGITUDE'], rel_train['LATITUDE'], c=rel_train['cause_lightning'])\n",
    "axes[1].set_xlabel('Longitude')\n",
    "axes[1].set_ylabel('Latitude')"
   ]
  },
  {
   "cell_type": "markdown",
   "id": "2105e94b",
   "metadata": {},
   "source": [
    "Because we used our clustering algorithm on the longitude and latitude data, it seems our unsupervised algorithm has divided the data into two clusters: Alaska and the mainland US. That is likely why it does not do so well at predicting whether or not the cause of the fire was lightning. "
   ]
  },
  {
   "cell_type": "markdown",
   "id": "a9ec0b7f",
   "metadata": {},
   "source": [
    "# 3. Supervised machine learning"
   ]
  },
  {
   "cell_type": "markdown",
   "id": "ab875b68",
   "metadata": {},
   "source": [
    "## 3. a) Binary Classification Test"
   ]
  },
  {
   "cell_type": "markdown",
   "id": "15c3c4ab",
   "metadata": {},
   "source": [
    "As in the tutorial, we will use the method of logistic regression. For this method, we model the probability distribution for a binary classifier as \n",
    "\\\\[\n",
    "p(y_i = 1 | \\mathbf{x}_i, \\mathbf{w}) \\equiv \\sigma(\\mathbf{x}_i^T \\mathbf{w}) = \\frac{1}{1 + \\exp(-\\mathbf{x}_i^T \\mathbf{w})} \n",
    "\\\\]\n",
    "\n",
    "Here $\\mathbf{x}_i$ is the __feature vector__ and $\\mathbf{y}_i$ is the __label__ for the $i$-th data point.  The weights $\\mathbf{w}$ define the model: a larger weight for a given component of $\\mathbf{x}$ will give that feature more influence on the probability distribution.\n",
    "\n",
    "The cost function is readily found as the log-likelihood of the whole dataset to be\n",
    "\n",
    "\\\\[\n",
    "C(\\mathbf{w}) = -\\log \\prod_i P(y_i = 1)^{y_i} P(y_i = 0)^{1-y_i} \\\\\n",
    "= -\\sum_{i} \\left[\\mathbf{y}_i \\log \\sigma (\\mathbf{x}_i^T \\mathbf{w}) + (1-\\mathbf{y}_i) \\log (1 - \\sigma(\\mathbf{x}_i^T \\mathbf{w}) ) \\right].\n",
    "\\\\]"
   ]
  },
  {
   "cell_type": "code",
   "execution_count": 52,
   "id": "b2d3ab71",
   "metadata": {},
   "outputs": [],
   "source": [
    "def sigmoid(s):\n",
    "    return 1 / (1 + np.exp(-s))\n",
    "\n",
    "def cross_entropy(x, w, y):\n",
    "    \"\"\"\n",
    "    Compute the cross entropy, a.k.a. the log likelihood\n",
    "    for the logistic regression model..\n",
    "    \n",
    "    Inputs:\n",
    "      - x: 2d array of feature vectors, with features as columns.\n",
    "      - w: 1d array of feature weights, same length as a feature vector.\n",
    "      - y: 1d array of data labels, should be binary (1 or 0)\n",
    "      \n",
    "    Return:\n",
    "      - C(w): the cross entropy.\n",
    "    \"\"\"\n",
    "    \n",
    "    y = y.astype(int)\n",
    "    xw = np.matmul(x,w)\n",
    "    s = sigmoid(xw)\n",
    "    Ci = np.multiply(y,np.log(s)) + np.multiply((1 - y),np.log(1-s))\n",
    "    C = -sum(Ci)\n",
    "    \n",
    "        \n",
    "    return C\n",
    "    "
   ]
  },
  {
   "cell_type": "code",
   "execution_count": 55,
   "id": "f185078b",
   "metadata": {},
   "outputs": [],
   "source": [
    "x_test = np.array([[0,1],[1,1]])\n",
    "y_test = np.array([0,1])\n",
    "w_test = np.array([0.2,0.4])\n",
    "\n",
    "npt.assert_allclose(cross_entropy(x_test, w_test, y_test), 1.35, atol=1e-2)"
   ]
  },
  {
   "cell_type": "code",
   "execution_count": 56,
   "id": "90472e09",
   "metadata": {},
   "outputs": [
    {
     "name": "stderr",
     "output_type": "stream",
     "text": [
      "/var/folders/b_/cqsdh0494d95ffr4z95wlkyr0000gn/T/ipykernel_39672/2765966117.py:21: RuntimeWarning: divide by zero encountered in log\n",
      "  Ci = np.multiply(y,np.log(s)) + np.multiply((1 - y),np.log(1-s))\n",
      "/var/folders/b_/cqsdh0494d95ffr4z95wlkyr0000gn/T/ipykernel_39672/2765966117.py:21: RuntimeWarning: invalid value encountered in multiply\n",
      "  Ci = np.multiply(y,np.log(s)) + np.multiply((1 - y),np.log(1-s))\n",
      "/var/folders/b_/cqsdh0494d95ffr4z95wlkyr0000gn/T/ipykernel_39672/2765966117.py:2: RuntimeWarning: overflow encountered in exp\n",
      "  return 1 / (1 + np.exp(-s))\n",
      "/var/folders/b_/cqsdh0494d95ffr4z95wlkyr0000gn/T/ipykernel_39672/2765966117.py:21: RuntimeWarning: divide by zero encountered in log\n",
      "  Ci = np.multiply(y,np.log(s)) + np.multiply((1 - y),np.log(1-s))\n",
      "/var/folders/b_/cqsdh0494d95ffr4z95wlkyr0000gn/T/ipykernel_39672/2765966117.py:21: RuntimeWarning: invalid value encountered in multiply\n",
      "  Ci = np.multiply(y,np.log(s)) + np.multiply((1 - y),np.log(1-s))\n",
      "/var/folders/b_/cqsdh0494d95ffr4z95wlkyr0000gn/T/ipykernel_39672/2765966117.py:21: RuntimeWarning: divide by zero encountered in log\n",
      "  Ci = np.multiply(y,np.log(s)) + np.multiply((1 - y),np.log(1-s))\n",
      "/var/folders/b_/cqsdh0494d95ffr4z95wlkyr0000gn/T/ipykernel_39672/2765966117.py:21: RuntimeWarning: invalid value encountered in multiply\n",
      "  Ci = np.multiply(y,np.log(s)) + np.multiply((1 - y),np.log(1-s))\n"
     ]
    },
    {
     "name": "stdout",
     "output_type": "stream",
     "text": [
      "      fun: nan\n",
      " hess_inv: array([[ 9.27727406e-05, -7.04730317e-06,  6.31527253e-04,\n",
      "        -4.27535486e-05, -3.82161369e-05],\n",
      "       [-7.04730317e-06,  1.24708306e-04,  4.52938145e-03,\n",
      "        -8.53076744e-05, -4.49523767e-05],\n",
      "       [ 6.31527253e-04,  4.52938145e-03,  7.39726373e+00,\n",
      "        -3.48288866e-03, -2.58899907e-03],\n",
      "       [-4.27535486e-05, -8.53076744e-05, -3.48288866e-03,\n",
      "         3.81453948e-04, -1.09429755e-04],\n",
      "       [-3.82161369e-05, -4.49523767e-05, -2.58899907e-03,\n",
      "        -1.09429755e-04,  1.39696040e-04]])\n",
      "      jac: array([nan, nan, nan, nan, nan])\n",
      "  message: 'Desired error not necessarily achieved due to precision loss.'\n",
      "     nfev: 756\n",
      "      nit: 11\n",
      "     njev: 126\n",
      "   status: 2\n",
      "  success: False\n",
      "        x: array([ 3.59623987e-01, -7.07992484e-02,  6.16435416e+03, -2.28402879e+00,\n",
      "        2.15805321e-01])\n"
     ]
    }
   ],
   "source": [
    "import scipy.optimize as opt\n",
    "\n",
    "features = ['FIRE_YEAR', 'DISCOVERY_DOY', 'FIRE_SIZE', 'LATITUDE','LONGITUDE']\n",
    "\n",
    "\n",
    "def CE_train(w):\n",
    "    return cross_entropy(rel_train[features].values, w, rel_train['cause_lightning'].values)\n",
    "\n",
    "res = opt.minimize(CE_train, [0,0,0,0,0])\n",
    "w_opt = res.x\n",
    "print(res)"
   ]
  },
  {
   "cell_type": "code",
   "execution_count": 57,
   "id": "9a3e4a23",
   "metadata": {},
   "outputs": [
    {
     "name": "stderr",
     "output_type": "stream",
     "text": [
      "/var/folders/b_/cqsdh0494d95ffr4z95wlkyr0000gn/T/ipykernel_39672/1458392268.py:1: SettingWithCopyWarning: \n",
      "A value is trying to be set on a copy of a slice from a DataFrame.\n",
      "Try using .loc[row_indexer,col_indexer] = value instead\n",
      "\n",
      "See the caveats in the documentation: https://pandas.pydata.org/pandas-docs/stable/user_guide/indexing.html#returning-a-view-versus-a-copy\n",
      "  rel_train['p_lightning'] = sigmoid(np.sum(rel_train[features].values * w_opt, axis=1))\n"
     ]
    }
   ],
   "source": [
    "rel_train['p_lightning'] = sigmoid(np.sum(rel_train[features].values * w_opt, axis=1))"
   ]
  },
  {
   "cell_type": "code",
   "execution_count": 58,
   "id": "531ad686",
   "metadata": {},
   "outputs": [
    {
     "data": {
      "text/plain": [
       "<matplotlib.collections.PathCollection at 0x1c669f100>"
      ]
     },
     "execution_count": 58,
     "metadata": {},
     "output_type": "execute_result"
    },
    {
     "data": {
      "image/png": "[encoded data removed]",
      "text/plain": [
       "<Figure size 432x288 with 1 Axes>"
      ]
     },
     "metadata": {
      "needs_background": "light"
     },
     "output_type": "display_data"
    }
   ],
   "source": [
    "plt.scatter(rel_train['FIRE_SIZE'], rel_train['p_lightning'], c=rel_train['cause_lightning'])"
   ]
  },
  {
   "cell_type": "code",
   "execution_count": 59,
   "id": "1a33ee0c",
   "metadata": {},
   "outputs": [
    {
     "data": {
      "text/plain": [
       "<matplotlib.collections.PathCollection at 0x1c6c545b0>"
      ]
     },
     "execution_count": 59,
     "metadata": {},
     "output_type": "execute_result"
    },
    {
     "data": {
      "image/png": "[encoded data removed]",
      "text/plain": [
       "<Figure size 432x288 with 1 Axes>"
      ]
     },
     "metadata": {
      "needs_background": "light"
     },
     "output_type": "display_data"
    }
   ],
   "source": [
    "plt.scatter(rel_train['LATITUDE'], rel_train['p_lightning'], c=rel_train['cause_lightning'])"
   ]
  },
  {
   "cell_type": "code",
   "execution_count": 61,
   "id": "c0dd46f3",
   "metadata": {},
   "outputs": [
    {
     "data": {
      "text/plain": [
       "<matplotlib.collections.PathCollection at 0x1c701fdc0>"
      ]
     },
     "execution_count": 61,
     "metadata": {},
     "output_type": "execute_result"
    },
    {
     "data": {
      "image/png": "[encoded data removed]",
      "text/plain": [
       "<Figure size 432x288 with 1 Axes>"
      ]
     },
     "metadata": {
      "needs_background": "light"
     },
     "output_type": "display_data"
    }
   ],
   "source": [
    "plt.scatter(rel_train['DISCOVERY_DOY'], rel_train['p_lightning'], c=rel_train['cause_lightning'])"
   ]
  },
  {
   "cell_type": "markdown",
   "id": "1b35747a",
   "metadata": {},
   "source": [
    "Let's verify how well the algorithm does on the test data:"
   ]
  },
  {
   "cell_type": "code",
   "execution_count": 62,
   "id": "182b7f4d",
   "metadata": {},
   "outputs": [
    {
     "name": "stderr",
     "output_type": "stream",
     "text": [
      "/var/folders/b_/cqsdh0494d95ffr4z95wlkyr0000gn/T/ipykernel_39672/2060017643.py:1: SettingWithCopyWarning: \n",
      "A value is trying to be set on a copy of a slice from a DataFrame.\n",
      "Try using .loc[row_indexer,col_indexer] = value instead\n",
      "\n",
      "See the caveats in the documentation: https://pandas.pydata.org/pandas-docs/stable/user_guide/indexing.html#returning-a-view-versus-a-copy\n",
      "  rel_test['p_lightning'] = sigmoid(np.sum(rel_test[features].values * w_opt, axis=1))\n"
     ]
    },
    {
     "data": {
      "text/plain": [
       "<matplotlib.collections.PathCollection at 0x1c724ffa0>"
      ]
     },
     "execution_count": 62,
     "metadata": {},
     "output_type": "execute_result"
    },
    {
     "data": {
      "image/png": "[encoded data removed]",
      "text/plain": [
       "<Figure size 432x288 with 1 Axes>"
      ]
     },
     "metadata": {
      "needs_background": "light"
     },
     "output_type": "display_data"
    }
   ],
   "source": [
    "rel_test['p_lightning'] = sigmoid(np.sum(rel_test[features].values * w_opt, axis=1))\n",
    "\n",
    "plt.scatter(rel_test['FIRE_SIZE'], rel_test['p_lightning'], c=rel_test['cause_lightning'])"
   ]
  },
  {
   "cell_type": "markdown",
   "id": "61f4a383",
   "metadata": {},
   "source": [
    "Let's quantify exactly how well it's doing. We define the __false positive rate__ (number of non-lightning events incorrectly labelled as caused by lightning, divided by the total number of events) and the __false negative rate__ (lightning events labelled as non-lightning).  \n",
    "\n",
    "We set the threshold for lightning events at $p > 0.5$."
   ]
  },
  {
   "cell_type": "code",
   "execution_count": 69,
   "id": "50f8eee3",
   "metadata": {},
   "outputs": [
    {
     "name": "stdout",
     "output_type": "stream",
     "text": [
      "False positive rate:  0.0526023462917051\n",
      "False negative rate:  0.1817332859451285\n"
     ]
    }
   ],
   "source": [
    "false_positive = np.sum(~rel_test[rel_test['p_lightning'] > .5]['cause_lightning']) / len(rel_test) \n",
    "false_negative = np.sum(rel_test[rel_test['p_lightning'] < 0.5]['cause_lightning']) / len(rel_test) \n",
    "\n",
    "print(\"False positive rate: \", false_positive)\n",
    "print(\"False negative rate: \", false_negative)"
   ]
  },
  {
   "cell_type": "markdown",
   "id": "7a9d1955",
   "metadata": {},
   "source": [
    "## 3. b) Full Classification Test"
   ]
  },
  {
   "cell_type": "markdown",
   "id": "a74c1869",
   "metadata": {},
   "source": [
    "For the full classification of wildfire causes, we will move to a non-binary classification model. I'll try the Random Forest model."
   ]
  },
  {
   "cell_type": "markdown",
   "id": "c60f72e7",
   "metadata": {},
   "source": [
    "### Features and Labels"
   ]
  },
  {
   "cell_type": "markdown",
   "id": "26be410d",
   "metadata": {},
   "source": [
    "Let's drop all rows where the cause is missing/undefined or miscellaneous and focus on causes the model would actually be able to predict so we don't throw off the model."
   ]
  },
  {
   "cell_type": "code",
   "execution_count": 8,
   "id": "1f127fb6",
   "metadata": {},
   "outputs": [
    {
     "data": {
      "text/html": [
       "<div>\n",
       "<style scoped>\n",
       "    .dataframe tbody tr th:only-of-type {\n",
       "        vertical-align: middle;\n",
       "    }\n",
       "\n",
       "    .dataframe tbody tr th {\n",
       "        vertical-align: top;\n",
       "    }\n",
       "\n",
       "    .dataframe thead th {\n",
       "        text-align: right;\n",
       "    }\n",
       "</style>\n",
       "<table border=\"1\" class=\"dataframe\">\n",
       "  <thead>\n",
       "    <tr style=\"text-align: right;\">\n",
       "      <th></th>\n",
       "      <th>FIRE_YEAR</th>\n",
       "      <th>DISCOVERY_DOY</th>\n",
       "      <th>STAT_CAUSE_CODE</th>\n",
       "      <th>STAT_CAUSE_DESCR</th>\n",
       "      <th>FIRE_SIZE</th>\n",
       "      <th>LATITUDE</th>\n",
       "      <th>LONGITUDE</th>\n",
       "    </tr>\n",
       "  </thead>\n",
       "  <tbody>\n",
       "    <tr>\n",
       "      <th>1</th>\n",
       "      <td>0.521739</td>\n",
       "      <td>0.361644</td>\n",
       "      <td>1.0</td>\n",
       "      <td>Lightning</td>\n",
       "      <td>4.117507e-07</td>\n",
       "      <td>0.400646</td>\n",
       "      <td>0.514314</td>\n",
       "    </tr>\n",
       "    <tr>\n",
       "      <th>2</th>\n",
       "      <td>0.521739</td>\n",
       "      <td>0.413699</td>\n",
       "      <td>5.0</td>\n",
       "      <td>Debris Burning</td>\n",
       "      <td>1.646113e-07</td>\n",
       "      <td>0.401622</td>\n",
       "      <td>0.511398</td>\n",
       "    </tr>\n",
       "    <tr>\n",
       "      <th>3</th>\n",
       "      <td>0.521739</td>\n",
       "      <td>0.490411</td>\n",
       "      <td>1.0</td>\n",
       "      <td>Lightning</td>\n",
       "      <td>1.646113e-07</td>\n",
       "      <td>0.393509</td>\n",
       "      <td>0.518640</td>\n",
       "    </tr>\n",
       "    <tr>\n",
       "      <th>4</th>\n",
       "      <td>0.521739</td>\n",
       "      <td>0.490411</td>\n",
       "      <td>1.0</td>\n",
       "      <td>Lightning</td>\n",
       "      <td>1.646113e-07</td>\n",
       "      <td>0.393509</td>\n",
       "      <td>0.518466</td>\n",
       "    </tr>\n",
       "    <tr>\n",
       "      <th>5</th>\n",
       "      <td>0.521739</td>\n",
       "      <td>0.495890</td>\n",
       "      <td>1.0</td>\n",
       "      <td>Lightning</td>\n",
       "      <td>1.646113e-07</td>\n",
       "      <td>0.394962</td>\n",
       "      <td>0.516964</td>\n",
       "    </tr>\n",
       "    <tr>\n",
       "      <th>...</th>\n",
       "      <td>...</td>\n",
       "      <td>...</td>\n",
       "      <td>...</td>\n",
       "      <td>...</td>\n",
       "      <td>...</td>\n",
       "      <td>...</td>\n",
       "      <td>...</td>\n",
       "    </tr>\n",
       "    <tr>\n",
       "      <th>1880451</th>\n",
       "      <td>1.000000</td>\n",
       "      <td>0.427397</td>\n",
       "      <td>2.0</td>\n",
       "      <td>Equipment Use</td>\n",
       "      <td>1.647447e-06</td>\n",
       "      <td>0.395132</td>\n",
       "      <td>0.510270</td>\n",
       "    </tr>\n",
       "    <tr>\n",
       "      <th>1880452</th>\n",
       "      <td>1.000000</td>\n",
       "      <td>0.282192</td>\n",
       "      <td>5.0</td>\n",
       "      <td>Debris Burning</td>\n",
       "      <td>1.975632e-07</td>\n",
       "      <td>0.309592</td>\n",
       "      <td>0.529384</td>\n",
       "    </tr>\n",
       "    <tr>\n",
       "      <th>1880453</th>\n",
       "      <td>1.000000</td>\n",
       "      <td>0.512329</td>\n",
       "      <td>8.0</td>\n",
       "      <td>Children</td>\n",
       "      <td>1.975632e-07</td>\n",
       "      <td>0.311789</td>\n",
       "      <td>0.530020</td>\n",
       "    </tr>\n",
       "    <tr>\n",
       "      <th>1880457</th>\n",
       "      <td>1.000000</td>\n",
       "      <td>0.745205</td>\n",
       "      <td>7.0</td>\n",
       "      <td>Arson</td>\n",
       "      <td>1.647447e-06</td>\n",
       "      <td>0.432249</td>\n",
       "      <td>0.490842</td>\n",
       "    </tr>\n",
       "    <tr>\n",
       "      <th>1880458</th>\n",
       "      <td>1.000000</td>\n",
       "      <td>0.580822</td>\n",
       "      <td>1.0</td>\n",
       "      <td>Lightning</td>\n",
       "      <td>6.590235e-06</td>\n",
       "      <td>0.425687</td>\n",
       "      <td>0.486663</td>\n",
       "    </tr>\n",
       "  </tbody>\n",
       "</table>\n",
       "<p>1389937 rows × 7 columns</p>\n",
       "</div>"
      ],
      "text/plain": [
       "         FIRE_YEAR  DISCOVERY_DOY  STAT_CAUSE_CODE STAT_CAUSE_DESCR  \\\n",
       "1         0.521739       0.361644              1.0        Lightning   \n",
       "2         0.521739       0.413699              5.0   Debris Burning   \n",
       "3         0.521739       0.490411              1.0        Lightning   \n",
       "4         0.521739       0.490411              1.0        Lightning   \n",
       "5         0.521739       0.495890              1.0        Lightning   \n",
       "...            ...            ...              ...              ...   \n",
       "1880451   1.000000       0.427397              2.0    Equipment Use   \n",
       "1880452   1.000000       0.282192              5.0   Debris Burning   \n",
       "1880453   1.000000       0.512329              8.0         Children   \n",
       "1880457   1.000000       0.745205              7.0            Arson   \n",
       "1880458   1.000000       0.580822              1.0        Lightning   \n",
       "\n",
       "            FIRE_SIZE  LATITUDE  LONGITUDE  \n",
       "1        4.117507e-07  0.400646   0.514314  \n",
       "2        1.646113e-07  0.401622   0.511398  \n",
       "3        1.646113e-07  0.393509   0.518640  \n",
       "4        1.646113e-07  0.393509   0.518466  \n",
       "5        1.646113e-07  0.394962   0.516964  \n",
       "...               ...       ...        ...  \n",
       "1880451  1.647447e-06  0.395132   0.510270  \n",
       "1880452  1.975632e-07  0.309592   0.529384  \n",
       "1880453  1.975632e-07  0.311789   0.530020  \n",
       "1880457  1.647447e-06  0.432249   0.490842  \n",
       "1880458  6.590235e-06  0.425687   0.486663  \n",
       "\n",
       "[1389937 rows x 7 columns]"
      ]
     },
     "execution_count": 8,
     "metadata": {},
     "output_type": "execute_result"
    }
   ],
   "source": [
    "features_df = pd.read_sql('SELECT FIRE_YEAR, DISCOVERY_DOY,  STAT_CAUSE_CODE, STAT_CAUSE_DESCR, FIRE_SIZE, LATITUDE, LONGITUDE FROM fires',conn)\n",
    "features = ['FIRE_YEAR', 'DISCOVERY_DOY', 'FIRE_SIZE', 'LATITUDE','LONGITUDE']\n",
    "#features_df[\"DISCOVERY_TIME\"] = pd.to_numeric(features_df['DISCOVERY_TIME'])\n",
    "\n",
    "features_df.drop(features_df.index[features_df['STAT_CAUSE_DESCR'] == 'Missing/Undefined'], inplace=True)\n",
    "features_df.drop(features_df.index[features_df['STAT_CAUSE_DESCR'] == 'Miscellaneous'], inplace=True)\n",
    "\n",
    "for col_name in ['FIRE_YEAR', 'DISCOVERY_DOY', 'FIRE_SIZE', 'LATITUDE','LONGITUDE']:\n",
    "    cmin = features_df[col_name].min()\n",
    "    cmax = features_df[col_name].max()\n",
    "    \n",
    "    features_df[col_name] = (features_df[col_name] - cmin) / (cmax - cmin)\n",
    "    \n",
    "features_df \n",
    "\n"
   ]
  },
  {
   "cell_type": "code",
   "execution_count": 9,
   "id": "c0e97f6f",
   "metadata": {},
   "outputs": [],
   "source": [
    "# Use numpy to convert to arrays\n",
    "\n",
    "# Labels are the values we want to predict\n",
    "labels = np.array(features_df['STAT_CAUSE_CODE'])\n",
    "labels_descr = np.array(features_df['STAT_CAUSE_DESCR'])\n",
    "\n",
    "# Remove the labels from the features\n",
    "features_df = features_df.drop(['STAT_CAUSE_DESCR','STAT_CAUSE_CODE'], axis = 1)\n",
    "\n",
    "# Saving feature names for later use\n",
    "feature_list = list(features_df.columns)\n",
    "\n",
    "# Convert to numpy array\n",
    "features_pd_df = features_df\n",
    "features_df = np.array(features_df)"
   ]
  },
  {
   "cell_type": "markdown",
   "id": "951437e6",
   "metadata": {},
   "source": [
    "### Training and test datasets"
   ]
  },
  {
   "cell_type": "code",
   "execution_count": 10,
   "id": "08dc21e8",
   "metadata": {},
   "outputs": [],
   "source": [
    "# Skicit-learn splits data into training and testing sets\n",
    "from sklearn.model_selection import train_test_split\n",
    "\n",
    "# Split the data into training and testing sets\n",
    "train_features, test_features, train_labels, test_labels = train_test_split(features_df, labels, test_size = 0.4)"
   ]
  },
  {
   "cell_type": "code",
   "execution_count": 11,
   "id": "72b0cdd7",
   "metadata": {},
   "outputs": [
    {
     "name": "stdout",
     "output_type": "stream",
     "text": [
      "Training Features Shape: (833962, 5)\n",
      "Training Labels Shape: (833962,)\n",
      "Testing Features Shape: (555975, 5)\n",
      "Testing Labels Shape: (555975,)\n"
     ]
    }
   ],
   "source": [
    "print('Training Features Shape:', train_features.shape)\n",
    "print('Training Labels Shape:', train_labels.shape)\n",
    "print('Testing Features Shape:', test_features.shape)\n",
    "print('Testing Labels Shape:', test_labels.shape)"
   ]
  },
  {
   "cell_type": "markdown",
   "id": "8f486c39",
   "metadata": {},
   "source": [
    "### Training the forest"
   ]
  },
  {
   "cell_type": "code",
   "execution_count": 12,
   "id": "21e4f085",
   "metadata": {},
   "outputs": [],
   "source": [
    "# Import the model we are using\n",
    "from sklearn.ensemble import RandomForestClassifier\n",
    "\n",
    "# Instantiate model \n",
    "rf = RandomForestClassifier(n_estimators= 128)\n",
    "\n",
    "# Train the model on training data\n",
    "rf.fit(train_features, train_labels);"
   ]
  },
  {
   "cell_type": "markdown",
   "id": "490d1f2a",
   "metadata": {},
   "source": [
    "### Testing the predictions"
   ]
  },
  {
   "cell_type": "code",
   "execution_count": 13,
   "id": "3aec46b6",
   "metadata": {},
   "outputs": [
    {
     "name": "stdout",
     "output_type": "stream",
     "text": [
      "\n",
      "ACCURACY OF THE MODEL ON TEST SET:  0.6230334097756194\n"
     ]
    }
   ],
   "source": [
    "# Use the forest's predict method on the test data\n",
    "predictions = rf.predict(test_features)\n",
    "\n",
    "# metrics are used to find accuracy or error\n",
    "from sklearn import metrics \n",
    "print()\n",
    " \n",
    "# using metrics module for accuracy calculation\n",
    "print(\"ACCURACY OF THE MODEL ON TEST SET: \", metrics.accuracy_score(test_labels, predictions))"
   ]
  },
  {
   "cell_type": "code",
   "execution_count": 14,
   "id": "c3374831",
   "metadata": {},
   "outputs": [
    {
     "name": "stdout",
     "output_type": "stream",
     "text": [
      "[2. 4. 5. 5. 7. 5. 5. 2. 5. 1. 7. 7. 1. 4. 5. 5. 5. 1. 6. 5.]\n",
      "[5. 5. 7. 5. 7. 5. 7. 2. 5. 3. 7. 7. 1. 1. 5. 5. 7. 1. 5. 5.]\n"
     ]
    }
   ],
   "source": [
    "print(test_labels[0:20])\n",
    "print(predictions[0:20])\n"
   ]
  },
  {
   "cell_type": "markdown",
   "id": "9a033628",
   "metadata": {},
   "source": [
    "62% accuracy doesn't seem very good, but considering that some of the wildfire causes would look pretty similar from the data available (for example distinguishing between wildfires started by children vs. by arson), the model does not seem too bad. How accurate is the model on the training data? That could be an indicator of whether there is too much variability in the data to do much better with our model."
   ]
  },
  {
   "cell_type": "code",
   "execution_count": 15,
   "id": "44f343e0",
   "metadata": {},
   "outputs": [
    {
     "name": "stdout",
     "output_type": "stream",
     "text": [
      "ACCURACY OF THE MODEL ON TRAIN SET:  0.9998728958873426\n"
     ]
    }
   ],
   "source": [
    "# Use the forest's predict method on the test data\n",
    "predictionsTrain = rf.predict(train_features)\n",
    " \n",
    "# using metrics module for accuracy calculation\n",
    "print(\"ACCURACY OF THE MODEL ON TRAIN SET: \", metrics.accuracy_score(train_labels, predictionsTrain))"
   ]
  },
  {
   "cell_type": "markdown",
   "id": "073ee072",
   "metadata": {},
   "source": [
    "The model is performing extremely well on the training data set and much worse (around 40% worse) on the testing data set. This suggests the model is overfitting quite a bit. "
   ]
  },
  {
   "cell_type": "markdown",
   "id": "caf89962",
   "metadata": {},
   "source": [
    "### Tuning the hyperparameters to optimize the model"
   ]
  },
  {
   "cell_type": "markdown",
   "id": "f2e08ce1",
   "metadata": {},
   "source": [
    "Note: I tried using GridSearchCV for a comprehensive and through search through the hyperparameter space but it was too computationally expensive on the large dataset. Instead, I will try using a randomized search to reduce computational time."
   ]
  },
  {
   "cell_type": "markdown",
   "id": "7fc462a9",
   "metadata": {},
   "source": [
    "First, we look at our current hyperparameter values."
   ]
  },
  {
   "cell_type": "code",
   "execution_count": 16,
   "id": "8dc71926",
   "metadata": {},
   "outputs": [
    {
     "name": "stdout",
     "output_type": "stream",
     "text": [
      "Currently using parameters:\n",
      "\n",
      "{'bootstrap': True,\n",
      " 'ccp_alpha': 0.0,\n",
      " 'class_weight': None,\n",
      " 'criterion': 'gini',\n",
      " 'max_depth': None,\n",
      " 'max_features': 'auto',\n",
      " 'max_leaf_nodes': None,\n",
      " 'max_samples': None,\n",
      " 'min_impurity_decrease': 0.0,\n",
      " 'min_samples_leaf': 1,\n",
      " 'min_samples_split': 2,\n",
      " 'min_weight_fraction_leaf': 0.0,\n",
      " 'n_estimators': 128,\n",
      " 'n_jobs': None,\n",
      " 'oob_score': False,\n",
      " 'random_state': None,\n",
      " 'verbose': 0,\n",
      " 'warm_start': False}\n"
     ]
    }
   ],
   "source": [
    "from pprint import pprint\n",
    "# Look at parameters used by our current forest\n",
    "print('Currently using parameters:\\n')\n",
    "pprint(rf.get_params())"
   ]
  },
  {
   "cell_type": "markdown",
   "id": "21d1598c",
   "metadata": {},
   "source": [
    "Some parameters that could be optimized are number of trees in the forest (n_estimators), number of levels in the tree (max_depth), minimum number of samples to split a node, etc."
   ]
  },
  {
   "cell_type": "code",
   "execution_count": 17,
   "id": "7efeb810",
   "metadata": {},
   "outputs": [
    {
     "name": "stdout",
     "output_type": "stream",
     "text": [
      "{'bootstrap': [True, False],\n",
      " 'max_depth': [10, 20, 30, 40, 50, 60, 70, 80, 90, 100, None],\n",
      " 'min_samples_leaf': [1, 2, 4],\n",
      " 'min_samples_split': [2, 5, 10],\n",
      " 'n_estimators': [100, 200, 300, 400, 500, 600, 700, 800, 900, 1000]}\n"
     ]
    },
    {
     "data": {
      "text/plain": [
       "{'bootstrap': [True, False],\n",
       " 'max_depth': [10, 20, 30, 40, 50, 60, 70, 80, 90, 100, None],\n",
       " 'min_samples_leaf': [1, 2, 4],\n",
       " 'min_samples_split': [2, 5, 10],\n",
       " 'n_estimators': [100, 200, 300, 400, 500, 600, 700, 800, 900, 1000]}"
      ]
     },
     "execution_count": 17,
     "metadata": {},
     "output_type": "execute_result"
    }
   ],
   "source": [
    "from sklearn.model_selection import RandomizedSearchCV\n",
    "\n",
    "# Number of trees in forest\n",
    "n_estimators = [int(x) for x in np.linspace(100,1000,10)]\n",
    "\n",
    "# Maximum number of levels in tree\n",
    "max_depth = [int(x) for x in np.linspace(10, 100, 10)]\n",
    "max_depth.append(None)\n",
    "\n",
    "# Minimum number of samples required to split a node\n",
    "min_samples_split = [2, 5, 10]\n",
    "\n",
    "# Minimum number of samples required at each leaf node\n",
    "min_samples_leaf = [1, 2, 4]\n",
    "\n",
    "# Method of selecting samples for training each tree\n",
    "bootstrap = [True, False]\n",
    "\n",
    "# Create the random grid\n",
    "random_grid = {'n_estimators': n_estimators,\n",
    "               'max_depth': max_depth,\n",
    "               'min_samples_split': min_samples_split,\n",
    "               'min_samples_leaf': min_samples_leaf,\n",
    "               'bootstrap': bootstrap}\n",
    "pprint(random_grid)\n",
    "{'bootstrap': [True, False],\n",
    " 'max_depth': [10, 20, 30, 40, 50, 60, 70, 80, 90, 100, None],\n",
    " 'min_samples_leaf': [1, 2, 4],\n",
    " 'min_samples_split': [2, 5, 10],\n",
    " 'n_estimators': [100, 200, 300, 400, 500, 600, 700, 800, 900, 1000]}"
   ]
  },
  {
   "cell_type": "markdown",
   "id": "1b9d63f5",
   "metadata": {},
   "source": [
    "Now that we have a long list of hyperparameter combinations to try, we use a random grid to search for the best combination. We will start with trying just 20 different combinations and using 2 cores so the process does not take prohibitively long. Tried using all available cores but it kept shutting my computer down for some reason."
   ]
  },
  {
   "cell_type": "code",
   "execution_count": null,
   "id": "26d36adc",
   "metadata": {},
   "outputs": [
    {
     "name": "stdout",
     "output_type": "stream",
     "text": [
      "Fitting 3 folds for each of 20 candidates, totalling 60 fits\n"
     ]
    }
   ],
   "source": [
    "# Use the random grid to search for best hyperparameters\n",
    "# First create the base model to tune\n",
    "rf = RandomForestClassifier()\n",
    "\n",
    "# Random search of parameters, using 3 fold cross validation, \n",
    "# search across 20 different combinations, and use all available cores\n",
    "rf_random = RandomizedSearchCV(estimator = rf, param_distributions = random_grid, n_iter = 20, cv = 3, verbose=2, random_state=42, n_jobs = 2)\n",
    "\n",
    "# Fit the random search model\n",
    "rf_random.fit(train_features, train_labels)\n",
    "\n"
   ]
  },
  {
   "cell_type": "code",
   "execution_count": null,
   "id": "37bf769b",
   "metadata": {},
   "outputs": [],
   "source": [
    "rf_random.best_params_"
   ]
  },
  {
   "cell_type": "code",
   "execution_count": null,
   "id": "70824bdb",
   "metadata": {},
   "outputs": [],
   "source": [
    "def evaluate_model(model, test_features, test_labels):\n",
    "    predictions = model.predict(test_features)\n",
    "    errors = abs(predictions - test_labels)\n",
    "    mape = 100 * np.mean(errors / test_labels)\n",
    "    accuracy = 100 - mape\n",
    "    print('Model Performance')\n",
    "    print('Average Error: {:0.4f} degrees.'.format(np.mean(errors)))\n",
    "    print('Accuracy = {:0.2f}%.'.format(accuracy))\n",
    "    \n",
    "    return accuracy\n",
    "base_model = RandomForestRegressor(n_estimators = 10, random_state = 42)\n",
    "base_model.fit(train_features, train_labels)\n",
    "base_accuracy = evaluate(base_model, test_features, test_labels)"
   ]
  },
  {
   "cell_type": "code",
   "execution_count": null,
   "id": "424e4b4b",
   "metadata": {},
   "outputs": [],
   "source": [
    "best_random = rf_random.best_estimator_\n",
    "random_accuracy = evaluate(best_random, test_features, test_labels)"
   ]
  },
  {
   "cell_type": "code",
   "execution_count": null,
   "id": "f1d2b6ac",
   "metadata": {},
   "outputs": [],
   "source": [
    "print('Improvement of {:0.2f}%.'.format( 100 * (random_accuracy - base_accuracy) / base_accuracy))"
   ]
  },
  {
   "cell_type": "markdown",
   "id": "6e792e82",
   "metadata": {},
   "source": [
    "### Identifying and visualizing important features"
   ]
  },
  {
   "cell_type": "code",
   "execution_count": 77,
   "id": "91fa376b",
   "metadata": {},
   "outputs": [
    {
     "data": {
      "text/plain": [
       "LONGITUDE        0.330139\n",
       "LATITUDE         0.257024\n",
       "DISCOVERY_DOY    0.209110\n",
       "FIRE_YEAR        0.104742\n",
       "FIRE_SIZE        0.098984\n",
       "dtype: float64"
      ]
     },
     "execution_count": 77,
     "metadata": {},
     "output_type": "execute_result"
    }
   ],
   "source": [
    "feature_imp = pd.Series(rf.feature_importances_,index=features).sort_values(ascending=False)\n",
    "feature_imp"
   ]
  },
  {
   "cell_type": "code",
   "execution_count": 86,
   "id": "0a641738",
   "metadata": {},
   "outputs": [
    {
     "data": {
      "image/png": "[encoded data removed]",
      "text/plain": [
       "<Figure size 432x288 with 1 Axes>"
      ]
     },
     "metadata": {
      "needs_background": "light"
     },
     "output_type": "display_data"
    }
   ],
   "source": [
    "# Creating a bar plot\n",
    "plt.barh(feature_imp.index, feature_imp)\n",
    "# Add labels to your graph\n",
    "plt.xlabel('Feature Importance Score')\n",
    "plt.ylabel('Features')\n",
    "plt.show()"
   ]
  },
  {
   "cell_type": "markdown",
   "id": "80ad3c63",
   "metadata": {},
   "source": [
    "If we remove the least important features in the model: fire size and fire year, can we improve the accuracy of the model? "
   ]
  },
  {
   "cell_type": "markdown",
   "id": "606ec9c0",
   "metadata": {},
   "source": [
    "### Removing less important features from the model"
   ]
  },
  {
   "cell_type": "code",
   "execution_count": 90,
   "id": "7b9b2019",
   "metadata": {},
   "outputs": [],
   "source": [
    "# Remove fire size and fire year from the features\n",
    "features_min_df = features_pd_df.drop(['FIRE_SIZE','FIRE_YEAR'], axis = 1)\n",
    "\n",
    "# Saving feature names for later use\n",
    "feature_list_min = list(features_min_df.columns)\n",
    "\n",
    "# Convert to numpy array\n",
    "features_min_df = np.array(features_min_df)"
   ]
  },
  {
   "cell_type": "code",
   "execution_count": 91,
   "id": "d70339d2",
   "metadata": {},
   "outputs": [],
   "source": [
    "# Split the data into training and testing sets\n",
    "train_features_min, test_features_min, train_labels_min, test_labels_min = train_test_split(features_min_df, labels, test_size = 0.3)\n"
   ]
  },
  {
   "cell_type": "code",
   "execution_count": 92,
   "id": "2bc81c21",
   "metadata": {},
   "outputs": [],
   "source": [
    "# Instantiate model \n",
    "rf_min = RandomForestClassifier(n_estimators= 200)\n",
    "\n",
    "# Train the model on training data\n",
    "rf_min.fit(train_features_min, train_labels_min);"
   ]
  },
  {
   "cell_type": "code",
   "execution_count": 93,
   "id": "e51e4b87",
   "metadata": {},
   "outputs": [
    {
     "name": "stdout",
     "output_type": "stream",
     "text": [
      "\n",
      "ACCURACY OF THE MODEL:  0.5823296928884221\n"
     ]
    }
   ],
   "source": [
    "# Use the forest's predict method on the test data\n",
    "predictions_min = rf_min.predict(test_features_min)\n",
    " \n",
    "# using metrics module for accuracy calculation\n",
    "print(\"ACCURACY OF THE MODEL: \", metrics.accuracy_score(test_labels_min, predictions_min))"
   ]
  },
  {
   "cell_type": "markdown",
   "id": "f0993c7c",
   "metadata": {},
   "source": [
    "The model has gotten worse actually so we can conclude that the fire size and fire year features are important. Are there any predictive features in the data we are not including at the moment? How can we do better? "
   ]
  },
  {
   "cell_type": "code",
   "execution_count": null,
   "id": "2f8f3131",
   "metadata": {},
   "outputs": [],
   "source": []
  }
 ],
 "metadata": {
  "kernelspec": {
   "display_name": "Python 3 (ipykernel)",
   "language": "python",
   "name": "python3"
  },
  "language_info": {
   "codemirror_mode": {
    "name": "ipython",
    "version": 3
   },
   "file_extension": ".py",
   "mimetype": "text/x-python",
   "name": "python",
   "nbconvert_exporter": "python",
   "pygments_lexer": "ipython3",
   "version": "3.9.9"
  }
 },
 "nbformat": 4,
 "nbformat_minor": 5
}
